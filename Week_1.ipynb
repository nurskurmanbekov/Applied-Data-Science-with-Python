{
  "nbformat": 4,
  "nbformat_minor": 0,
  "metadata": {
    "colab": {
      "name": "Week_1.ipynb",
      "provenance": [],
      "collapsed_sections": [
        "wSm_LkBXz906",
        "TSVaYpVS34JT",
        "Rs1AAwWgIjzq",
        "zZIogEIBKLu4",
        "NWThhUNIPNtQ"
      ],
      "include_colab_link": true
    },
    "kernelspec": {
      "name": "python3",
      "display_name": "Python 3"
    },
    "language_info": {
      "name": "python"
    }
  },
  "cells": [
    {
      "cell_type": "markdown",
      "metadata": {
        "id": "view-in-github",
        "colab_type": "text"
      },
      "source": [
        "<a href=\"https://colab.research.google.com/github/nurskurmanbekov/Applied-Data-Science-with-Python/blob/main/Week_1.ipynb\" target=\"_parent\"><img src=\"https://colab.research.google.com/assets/colab-badge.svg\" alt=\"Open In Colab\"/></a>"
      ]
    },
    {
      "cell_type": "markdown",
      "source": [
        "<b>Course Outline</b>\n",
        "\n",
        "\n",
        "\n",
        "1.   Prerequest  Python Knowledge \n",
        "2.   The pandas Toolkit \n",
        "3.   Advanced Querying and Manipulation with pandas \n",
        "4.   Basic Statistical  Analysis  with numpy  and scipy,  and project\n",
        "\n",
        "\n",
        "In this Scpecalization also in 1'st course we will use Jupyter Notebook.\n",
        "\n"
      ],
      "metadata": {
        "id": "VRCvtGuNAzhU"
      }
    },
    {
      "cell_type": "markdown",
      "source": [
        "# ***Function***"
      ],
      "metadata": {
        "id": "wSm_LkBXz906"
      }
    },
    {
      "cell_type": "code",
      "execution_count": 95,
      "metadata": {
        "colab": {
          "base_uri": "https://localhost:8080/"
        },
        "id": "hOL-QTWjAw_3",
        "outputId": "0a1d52d1-f5b5-4065-cf52-6b5bfcb34b97"
      },
      "outputs": [
        {
          "output_type": "execute_result",
          "data": {
            "text/plain": [
              "3"
            ]
          },
          "metadata": {},
          "execution_count": 95
        }
      ],
      "source": [
        "x = 1 \n",
        "y = 2\n",
        "x + y "
      ]
    },
    {
      "cell_type": "code",
      "source": [
        "x "
      ],
      "metadata": {
        "colab": {
          "base_uri": "https://localhost:8080/"
        },
        "id": "PjynwxY40ob-",
        "outputId": "596b76c3-de0b-45db-8b07-5a9c12948f37"
      },
      "execution_count": 96,
      "outputs": [
        {
          "output_type": "execute_result",
          "data": {
            "text/plain": [
              "1"
            ]
          },
          "metadata": {},
          "execution_count": 96
        }
      ]
    },
    {
      "cell_type": "code",
      "source": [
        "def add_numbers(x, y):\n",
        "  return x + y\n",
        "\n",
        "add_numbers(1,2)"
      ],
      "metadata": {
        "colab": {
          "base_uri": "https://localhost:8080/"
        },
        "id": "QZDzkSk00v0F",
        "outputId": "afa82ea7-0475-459d-f66a-92d37464dfa0"
      },
      "execution_count": 97,
      "outputs": [
        {
          "output_type": "execute_result",
          "data": {
            "text/plain": [
              "3"
            ]
          },
          "metadata": {},
          "execution_count": 97
        }
      ]
    },
    {
      "cell_type": "code",
      "source": [
        "def add_numbers(x, y, z = None):\n",
        "  if (z == None):\n",
        "    return x + y\n",
        "  else:\n",
        "    return x + y + z\n",
        "print(add_numbers(1,2,4))\n",
        "print(add_numbers(1,2))"
      ],
      "metadata": {
        "colab": {
          "base_uri": "https://localhost:8080/"
        },
        "id": "-Ypvd4du1CBX",
        "outputId": "0de349b1-3eea-4e1d-860f-f47590301fd7"
      },
      "execution_count": 98,
      "outputs": [
        {
          "output_type": "stream",
          "name": "stdout",
          "text": [
            "7\n",
            "3\n"
          ]
        }
      ]
    },
    {
      "cell_type": "code",
      "source": [
        "def add_numbers(x, y, z = None, flag = False):\n",
        "  if (flag):\n",
        "    print('Flag is True!')\n",
        "  if (z == None):\n",
        "    return x + y\n",
        "  else:\n",
        "    return x + y + z\n",
        "print(add_numbers(1,2, flag = True))\n",
        "print(add_numbers(1,2,3, flag = False)) \n",
        "print(add_numbers(1,2, flag = False))"
      ],
      "metadata": {
        "colab": {
          "base_uri": "https://localhost:8080/"
        },
        "id": "UlGWZcmm1w7y",
        "outputId": "97b60a2f-1d7d-434a-e904-75eae6be143c"
      },
      "execution_count": 99,
      "outputs": [
        {
          "output_type": "stream",
          "name": "stdout",
          "text": [
            "Flag is True!\n",
            "3\n",
            "6\n",
            "3\n"
          ]
        }
      ]
    },
    {
      "cell_type": "markdown",
      "source": [
        "This function should add the two values if the value of the \"kind\" parameter is \"add\" or is not passed in, otherwise it should subtract the second value from the first. \n",
        "\n",
        "Can you fix the function so that it works?"
      ],
      "metadata": {
        "id": "T3D4ou8k24sz"
      }
    },
    {
      "cell_type": "markdown",
      "source": [
        "\n",
        "\n",
        "```\n",
        " def do_math(?, ?, ?):\n",
        "  if (kind=='add'):\n",
        "    return a+b\n",
        "  else:\n",
        "    return a-b\n",
        "\n",
        "do_math(1, 2)\n",
        "```\n",
        "\n"
      ],
      "metadata": {
        "id": "zcZtuRQH28cK"
      }
    },
    {
      "cell_type": "code",
      "source": [
        "def do_math(a, b, kind='add'):\n",
        "    if (kind=='add'):\n",
        "        return a+b\n",
        "    else:\n",
        "        return a-b\n",
        "\n",
        "do_math(1, 2)"
      ],
      "metadata": {
        "colab": {
          "base_uri": "https://localhost:8080/"
        },
        "id": "3HWfFZP63pE6",
        "outputId": "54db7a6b-bfcb-4767-8bab-aa15fb13eb9b"
      },
      "execution_count": 100,
      "outputs": [
        {
          "output_type": "execute_result",
          "data": {
            "text/plain": [
              "3"
            ]
          },
          "metadata": {},
          "execution_count": 100
        }
      ]
    },
    {
      "cell_type": "markdown",
      "source": [
        "# ***Python Types and Sequences***\n"
      ],
      "metadata": {
        "id": "TSVaYpVS34JT"
      }
    },
    {
      "cell_type": "code",
      "source": [
        "type('This is string')"
      ],
      "metadata": {
        "colab": {
          "base_uri": "https://localhost:8080/"
        },
        "id": "_hxf_X1Y3ygE",
        "outputId": "1a9477dc-9417-41fc-9404-051488874c2f"
      },
      "execution_count": 101,
      "outputs": [
        {
          "output_type": "execute_result",
          "data": {
            "text/plain": [
              "str"
            ]
          },
          "metadata": {},
          "execution_count": 101
        }
      ]
    },
    {
      "cell_type": "code",
      "source": [
        "type(None)"
      ],
      "metadata": {
        "colab": {
          "base_uri": "https://localhost:8080/"
        },
        "id": "NLkSDrv44Q_q",
        "outputId": "67e5e94b-fb6b-495a-9164-263a59ebbcb4"
      },
      "execution_count": 102,
      "outputs": [
        {
          "output_type": "execute_result",
          "data": {
            "text/plain": [
              "NoneType"
            ]
          },
          "metadata": {},
          "execution_count": 102
        }
      ]
    },
    {
      "cell_type": "code",
      "source": [
        "type(1.0)"
      ],
      "metadata": {
        "colab": {
          "base_uri": "https://localhost:8080/"
        },
        "id": "xr3VB9bj4X8q",
        "outputId": "307b805b-f404-4561-c4fc-f3aebfafa66d"
      },
      "execution_count": 103,
      "outputs": [
        {
          "output_type": "execute_result",
          "data": {
            "text/plain": [
              "float"
            ]
          },
          "metadata": {},
          "execution_count": 103
        }
      ]
    },
    {
      "cell_type": "code",
      "source": [
        "type(add_numbers)"
      ],
      "metadata": {
        "colab": {
          "base_uri": "https://localhost:8080/"
        },
        "id": "kvo3V5Zx4ZPQ",
        "outputId": "fca5c6ff-26d7-4edb-9af5-c162e204e392"
      },
      "execution_count": 104,
      "outputs": [
        {
          "output_type": "execute_result",
          "data": {
            "text/plain": [
              "function"
            ]
          },
          "metadata": {},
          "execution_count": 104
        }
      ]
    },
    {
      "cell_type": "code",
      "source": [
        "x = (1, 'a', 2, 'b')\n",
        "type(x)"
      ],
      "metadata": {
        "colab": {
          "base_uri": "https://localhost:8080/"
        },
        "id": "dmKettqX4bOs",
        "outputId": "4d247d9f-7eed-4654-a6c1-b5b5b5a6e9b3"
      },
      "execution_count": 105,
      "outputs": [
        {
          "output_type": "execute_result",
          "data": {
            "text/plain": [
              "tuple"
            ]
          },
          "metadata": {},
          "execution_count": 105
        }
      ]
    },
    {
      "cell_type": "code",
      "source": [
        "x = [1, 'a', 2, 'b']\n",
        "type(x)"
      ],
      "metadata": {
        "colab": {
          "base_uri": "https://localhost:8080/"
        },
        "id": "jOWfNL_V4jBU",
        "outputId": "d2a0a37d-6e32-4f21-c1e4-18adaa686629"
      },
      "execution_count": 106,
      "outputs": [
        {
          "output_type": "execute_result",
          "data": {
            "text/plain": [
              "list"
            ]
          },
          "metadata": {},
          "execution_count": 106
        }
      ]
    },
    {
      "cell_type": "code",
      "source": [
        "x.append(3.3)\n",
        "print(x)"
      ],
      "metadata": {
        "colab": {
          "base_uri": "https://localhost:8080/"
        },
        "id": "9vgz_J-R4xWW",
        "outputId": "c3bda03b-f70d-479a-a37a-36e1f3397db1"
      },
      "execution_count": 107,
      "outputs": [
        {
          "output_type": "stream",
          "name": "stdout",
          "text": [
            "[1, 'a', 2, 'b', 3.3]\n"
          ]
        }
      ]
    },
    {
      "cell_type": "code",
      "source": [
        "for item  in x:\n",
        "  print(item)"
      ],
      "metadata": {
        "colab": {
          "base_uri": "https://localhost:8080/"
        },
        "id": "Qr2TBkt943fJ",
        "outputId": "42fb2a28-7425-467a-ef4f-a93a3f863ef1"
      },
      "execution_count": 108,
      "outputs": [
        {
          "output_type": "stream",
          "name": "stdout",
          "text": [
            "1\n",
            "a\n",
            "2\n",
            "b\n",
            "3.3\n"
          ]
        }
      ]
    },
    {
      "cell_type": "code",
      "source": [
        "i = 0\n",
        "while(i != len(x) ):\n",
        "  print(x[i])\n",
        "  i = i + 1"
      ],
      "metadata": {
        "colab": {
          "base_uri": "https://localhost:8080/"
        },
        "id": "BOiZ3Cv_5Bbu",
        "outputId": "fc0b5336-c587-4ccf-dd13-1db8f45f9b73"
      },
      "execution_count": 109,
      "outputs": [
        {
          "output_type": "stream",
          "name": "stdout",
          "text": [
            "1\n",
            "a\n",
            "2\n",
            "b\n",
            "3.3\n"
          ]
        }
      ]
    },
    {
      "cell_type": "code",
      "source": [
        "[1, 2] + [3, 4]"
      ],
      "metadata": {
        "colab": {
          "base_uri": "https://localhost:8080/"
        },
        "id": "uIS0JIoU5MJO",
        "outputId": "7a75dad0-35b3-49d5-eaf0-b04ae57c7682"
      },
      "execution_count": 110,
      "outputs": [
        {
          "output_type": "execute_result",
          "data": {
            "text/plain": [
              "[1, 2, 3, 4]"
            ]
          },
          "metadata": {},
          "execution_count": 110
        }
      ]
    },
    {
      "cell_type": "code",
      "source": [
        "[1] + [3]"
      ],
      "metadata": {
        "colab": {
          "base_uri": "https://localhost:8080/"
        },
        "id": "ATBqJlOm5ZwX",
        "outputId": "8dfe11f1-b86b-45e2-c8b5-0db305e5f557"
      },
      "execution_count": 111,
      "outputs": [
        {
          "output_type": "execute_result",
          "data": {
            "text/plain": [
              "[1, 3]"
            ]
          },
          "metadata": {},
          "execution_count": 111
        }
      ]
    },
    {
      "cell_type": "code",
      "source": [
        "[1] * 3"
      ],
      "metadata": {
        "colab": {
          "base_uri": "https://localhost:8080/"
        },
        "id": "t6tNU9X45cPz",
        "outputId": "1084e71c-92d5-4968-f148-6fe4ad42ab72"
      },
      "execution_count": 112,
      "outputs": [
        {
          "output_type": "execute_result",
          "data": {
            "text/plain": [
              "[1, 1, 1]"
            ]
          },
          "metadata": {},
          "execution_count": 112
        }
      ]
    },
    {
      "cell_type": "code",
      "source": [
        "1 in [1,2,3]"
      ],
      "metadata": {
        "colab": {
          "base_uri": "https://localhost:8080/"
        },
        "id": "Fg4eXQg-5d5Q",
        "outputId": "d81a740f-d89b-4851-ae8a-a8fd3c3e9414"
      },
      "execution_count": 113,
      "outputs": [
        {
          "output_type": "execute_result",
          "data": {
            "text/plain": [
              "True"
            ]
          },
          "metadata": {},
          "execution_count": 113
        }
      ]
    },
    {
      "cell_type": "code",
      "source": [
        "x = 'This is a string'\n",
        "print(type(x))"
      ],
      "metadata": {
        "colab": {
          "base_uri": "https://localhost:8080/"
        },
        "id": "cgCjuJv25hYL",
        "outputId": "e0d5118c-33ec-4c0d-985f-1776f2a9df8b"
      },
      "execution_count": 114,
      "outputs": [
        {
          "output_type": "stream",
          "name": "stdout",
          "text": [
            "<class 'str'>\n"
          ]
        }
      ]
    },
    {
      "cell_type": "code",
      "source": [
        "print(x[0])\n",
        "print(x[0:1])\n",
        "print(x[0:2])\n",
        "print(x[0:3])\n",
        "print(x[0:4])\n",
        "print(x[0:5])\n",
        "print(x[0:6])\n",
        "print(x[0:7])\n",
        "print(x[0:8])"
      ],
      "metadata": {
        "colab": {
          "base_uri": "https://localhost:8080/"
        },
        "id": "SK1FAfkI57ZH",
        "outputId": "c05f4162-b35e-49dd-8754-00a9170b3b8e"
      },
      "execution_count": 115,
      "outputs": [
        {
          "output_type": "stream",
          "name": "stdout",
          "text": [
            "T\n",
            "T\n",
            "Th\n",
            "Thi\n",
            "This\n",
            "This \n",
            "This i\n",
            "This is\n",
            "This is \n"
          ]
        }
      ]
    },
    {
      "cell_type": "code",
      "source": [
        "print(x[0:1])"
      ],
      "metadata": {
        "colab": {
          "base_uri": "https://localhost:8080/"
        },
        "id": "AEEuCTn29bnw",
        "outputId": "129cd5a0-b90e-4319-e0c6-242f2e14925c"
      },
      "execution_count": 116,
      "outputs": [
        {
          "output_type": "stream",
          "name": "stdout",
          "text": [
            "T\n"
          ]
        }
      ]
    },
    {
      "cell_type": "code",
      "source": [
        "i = 0\n",
        "while (i != len(x)+1):\n",
        "  print(x[0:i])\n",
        "  i= i+1"
      ],
      "metadata": {
        "colab": {
          "base_uri": "https://localhost:8080/"
        },
        "id": "JNay9Al-88N6",
        "outputId": "8c173b63-38d4-4ef1-da30-1f3b20e28448"
      },
      "execution_count": 117,
      "outputs": [
        {
          "output_type": "stream",
          "name": "stdout",
          "text": [
            "\n",
            "T\n",
            "Th\n",
            "Thi\n",
            "This\n",
            "This \n",
            "This i\n",
            "This is\n",
            "This is \n",
            "This is a\n",
            "This is a \n",
            "This is a s\n",
            "This is a st\n",
            "This is a str\n",
            "This is a stri\n",
            "This is a strin\n",
            "This is a string\n"
          ]
        }
      ]
    },
    {
      "cell_type": "code",
      "source": [
        "x[-1]"
      ],
      "metadata": {
        "colab": {
          "base_uri": "https://localhost:8080/",
          "height": 0
        },
        "id": "AEdaa5iP9otZ",
        "outputId": "f958d362-421b-43a6-9303-532770c58248"
      },
      "execution_count": 118,
      "outputs": [
        {
          "output_type": "execute_result",
          "data": {
            "text/plain": [
              "'g'"
            ],
            "application/vnd.google.colaboratory.intrinsic+json": {
              "type": "string"
            }
          },
          "metadata": {},
          "execution_count": 118
        }
      ]
    },
    {
      "cell_type": "code",
      "source": [
        "x[-4:-2]"
      ],
      "metadata": {
        "colab": {
          "base_uri": "https://localhost:8080/",
          "height": 0
        },
        "id": "L3ay4-bi9uf9",
        "outputId": "b1053c96-b21a-4d7a-ef46-70b2fcef8782"
      },
      "execution_count": 119,
      "outputs": [
        {
          "output_type": "execute_result",
          "data": {
            "text/plain": [
              "'ri'"
            ],
            "application/vnd.google.colaboratory.intrinsic+json": {
              "type": "string"
            }
          },
          "metadata": {},
          "execution_count": 119
        }
      ]
    },
    {
      "cell_type": "code",
      "source": [
        "x[:3]"
      ],
      "metadata": {
        "colab": {
          "base_uri": "https://localhost:8080/",
          "height": 0
        },
        "id": "3O2HgKYr9vqX",
        "outputId": "9cc44867-f92f-483d-e2e8-0dd0552ad394"
      },
      "execution_count": 120,
      "outputs": [
        {
          "output_type": "execute_result",
          "data": {
            "text/plain": [
              "'Thi'"
            ],
            "application/vnd.google.colaboratory.intrinsic+json": {
              "type": "string"
            }
          },
          "metadata": {},
          "execution_count": 120
        }
      ]
    },
    {
      "cell_type": "code",
      "source": [
        "x[3:]"
      ],
      "metadata": {
        "colab": {
          "base_uri": "https://localhost:8080/",
          "height": 0
        },
        "id": "G1Gm3ncH91kj",
        "outputId": "a20245b9-c70f-45cf-8f2a-a95ed25d1075"
      },
      "execution_count": 121,
      "outputs": [
        {
          "output_type": "execute_result",
          "data": {
            "text/plain": [
              "'s is a string'"
            ],
            "application/vnd.google.colaboratory.intrinsic+json": {
              "type": "string"
            }
          },
          "metadata": {},
          "execution_count": 121
        }
      ]
    },
    {
      "cell_type": "markdown",
      "source": [
        "What would be an appropriate slice to get the name \"Christopher\" from the string \"Dr. Christopher Brooks\"?"
      ],
      "metadata": {
        "id": "UC64-zgS98fE"
      }
    },
    {
      "cell_type": "markdown",
      "source": [
        "\n",
        "\n",
        "```\n",
        "x = 'Dr. Christopher Brooks'\n",
        "\n",
        "print(x[???])\n",
        "```\n",
        "\n"
      ],
      "metadata": {
        "id": "KBWe2VLr-Cd4"
      }
    },
    {
      "cell_type": "code",
      "source": [
        "x = 'Dr. Christopher Brooks'\n",
        "\n",
        "print(x[4:15])"
      ],
      "metadata": {
        "colab": {
          "base_uri": "https://localhost:8080/"
        },
        "id": "X5YCUyTi93Nj",
        "outputId": "4f6d772a-b232-480d-cce2-7d14d3321696"
      },
      "execution_count": 122,
      "outputs": [
        {
          "output_type": "stream",
          "name": "stdout",
          "text": [
            "Christopher\n"
          ]
        }
      ]
    },
    {
      "cell_type": "code",
      "source": [
        "firstname = 'Chistopher'\n",
        "lastname = 'Brooks'\n",
        "print(firstname + ' ' + lastname)\n",
        "print(f\"{firstname} {lastname}\")"
      ],
      "metadata": {
        "colab": {
          "base_uri": "https://localhost:8080/"
        },
        "id": "epr0-h4v-X4t",
        "outputId": "7f70e889-0b0f-44c7-a173-9aec53fc7acc"
      },
      "execution_count": 123,
      "outputs": [
        {
          "output_type": "stream",
          "name": "stdout",
          "text": [
            "Chistopher Brooks\n",
            "Chistopher Brooks\n"
          ]
        }
      ]
    },
    {
      "cell_type": "code",
      "source": [
        "print(firstname * 3)\n",
        "print('Chris' in firstname)"
      ],
      "metadata": {
        "colab": {
          "base_uri": "https://localhost:8080/"
        },
        "id": "LNMs7Hz_Bo29",
        "outputId": "041cbcf5-1864-491e-f301-7185e4464315"
      },
      "execution_count": 124,
      "outputs": [
        {
          "output_type": "stream",
          "name": "stdout",
          "text": [
            "ChistopherChistopherChistopher\n",
            "False\n"
          ]
        }
      ]
    },
    {
      "cell_type": "code",
      "source": [
        "firstname  = 'Chirstopher Arthur Hansen Brooks'.split(' ')[0]\n",
        "firstname"
      ],
      "metadata": {
        "id": "Qf2ZU-qeB8bM",
        "colab": {
          "base_uri": "https://localhost:8080/",
          "height": 0
        },
        "outputId": "98a7ae7b-1c17-428e-963a-38e20493227c"
      },
      "execution_count": 125,
      "outputs": [
        {
          "output_type": "execute_result",
          "data": {
            "text/plain": [
              "'Chirstopher'"
            ],
            "application/vnd.google.colaboratory.intrinsic+json": {
              "type": "string"
            }
          },
          "metadata": {},
          "execution_count": 125
        }
      ]
    },
    {
      "cell_type": "code",
      "source": [
        "lastname  = 'Chirstopher Arthur Hansen Brooks'.split(' ')[3]\n",
        "lastname"
      ],
      "metadata": {
        "colab": {
          "base_uri": "https://localhost:8080/",
          "height": 0
        },
        "id": "M-XMMKOeCII8",
        "outputId": "8d2aaba9-7ff3-4df3-b3bf-cf62d6f9a3fd"
      },
      "execution_count": 126,
      "outputs": [
        {
          "output_type": "execute_result",
          "data": {
            "text/plain": [
              "'Brooks'"
            ],
            "application/vnd.google.colaboratory.intrinsic+json": {
              "type": "string"
            }
          },
          "metadata": {},
          "execution_count": 126
        }
      ]
    },
    {
      "cell_type": "code",
      "source": [
        "x = {'Christopher Brooks' : 'brooksch@umich.edu', 'Bill Gates' : 'billg@microsoft.com'}\n",
        "x['Christopher Brooks']"
      ],
      "metadata": {
        "colab": {
          "base_uri": "https://localhost:8080/",
          "height": 0
        },
        "id": "R1obVcmoCSec",
        "outputId": "96ea81d7-2f2c-4242-dc2d-80308d6016bd"
      },
      "execution_count": 127,
      "outputs": [
        {
          "output_type": "execute_result",
          "data": {
            "text/plain": [
              "'brooksch@umich.edu'"
            ],
            "application/vnd.google.colaboratory.intrinsic+json": {
              "type": "string"
            }
          },
          "metadata": {},
          "execution_count": 127
        }
      ]
    },
    {
      "cell_type": "code",
      "source": [
        "x['Kevyn  Collins-Thompson'] = None\n",
        "x['Kevyn  Collins-Thompson'] "
      ],
      "metadata": {
        "id": "_bL0Xnu3C1vK"
      },
      "execution_count": 128,
      "outputs": []
    },
    {
      "cell_type": "code",
      "source": [
        "for name in x:\n",
        "  print(x[name])"
      ],
      "metadata": {
        "colab": {
          "base_uri": "https://localhost:8080/"
        },
        "id": "48mn-BcPDCqo",
        "outputId": "092cf3d2-b1cc-49be-ba9a-18b88e0159ee"
      },
      "execution_count": 129,
      "outputs": [
        {
          "output_type": "stream",
          "name": "stdout",
          "text": [
            "brooksch@umich.edu\n",
            "billg@microsoft.com\n",
            "None\n"
          ]
        }
      ]
    },
    {
      "cell_type": "code",
      "source": [
        "for email in x.values():\n",
        "  print(email)"
      ],
      "metadata": {
        "colab": {
          "base_uri": "https://localhost:8080/"
        },
        "id": "ujyDdQl1DImB",
        "outputId": "fdadb7ac-fcc1-43ae-ba99-5ded5378621b"
      },
      "execution_count": 130,
      "outputs": [
        {
          "output_type": "stream",
          "name": "stdout",
          "text": [
            "brooksch@umich.edu\n",
            "billg@microsoft.com\n",
            "None\n"
          ]
        }
      ]
    },
    {
      "cell_type": "code",
      "source": [
        "for name, email in x.items():\n",
        "  print(name)\n",
        "  print(email)"
      ],
      "metadata": {
        "colab": {
          "base_uri": "https://localhost:8080/"
        },
        "id": "yA6u0AKqDPtr",
        "outputId": "4eeb090c-9847-4c01-904c-4d5ffb8cb824"
      },
      "execution_count": 131,
      "outputs": [
        {
          "output_type": "stream",
          "name": "stdout",
          "text": [
            "Christopher Brooks\n",
            "brooksch@umich.edu\n",
            "Bill Gates\n",
            "billg@microsoft.com\n",
            "Kevyn  Collins-Thompson\n",
            "None\n"
          ]
        }
      ]
    },
    {
      "cell_type": "code",
      "source": [
        "for name, email in x.items():\n",
        "  print(f'{name} {email}\\n')\n"
      ],
      "metadata": {
        "colab": {
          "base_uri": "https://localhost:8080/"
        },
        "id": "7DwrlMDoDd9s",
        "outputId": "d3782968-f91b-41c4-c143-213eb37a36e2"
      },
      "execution_count": 132,
      "outputs": [
        {
          "output_type": "stream",
          "name": "stdout",
          "text": [
            "Christopher Brooks brooksch@umich.edu\n",
            "\n",
            "Bill Gates billg@microsoft.com\n",
            "\n",
            "Kevyn  Collins-Thompson None\n",
            "\n"
          ]
        }
      ]
    },
    {
      "cell_type": "code",
      "source": [
        "x = ('Christopher', 'Brooks', 'brooksch@umich.edu')\n",
        "fname, lname, email = x"
      ],
      "metadata": {
        "id": "0_zVLoU-DpVW"
      },
      "execution_count": 133,
      "outputs": []
    },
    {
      "cell_type": "code",
      "source": [
        "print(f\"{fname} {lname} {email}\")"
      ],
      "metadata": {
        "colab": {
          "base_uri": "https://localhost:8080/"
        },
        "id": "xjxOI94fD1lB",
        "outputId": "035f5732-fc62-4937-8bcc-e3a53a5607e1"
      },
      "execution_count": 134,
      "outputs": [
        {
          "output_type": "stream",
          "name": "stdout",
          "text": [
            "Christopher Brooks brooksch@umich.edu\n"
          ]
        }
      ]
    },
    {
      "cell_type": "markdown",
      "source": [
        "# ***Python More on Strings***\n"
      ],
      "metadata": {
        "id": "Rs1AAwWgIjzq"
      }
    },
    {
      "cell_type": "code",
      "source": [
        "print('Chris'+ str(2))"
      ],
      "metadata": {
        "colab": {
          "base_uri": "https://localhost:8080/"
        },
        "id": "50plIhsKIxh5",
        "outputId": "2ca808d0-e916-4ed1-fc72-81ceae5bdd18"
      },
      "execution_count": 135,
      "outputs": [
        {
          "output_type": "stream",
          "name": "stdout",
          "text": [
            "Chris2\n"
          ]
        }
      ]
    },
    {
      "cell_type": "code",
      "source": [
        "sales_record = {'price' : 3.24,\n",
        "                 'num_items' : 4,\n",
        "                 'person' : 'Chris'}\n",
        "sales_statement = '{} bought {} item(s) at a price of {} each for a total  of {}'\n",
        "print(sales_statement.format(sales_record['person'],\n",
        "                             sales_record['num_items'],\n",
        "                             sales_record['price'],\n",
        "                             sales_record['num_items'] * sales_record['price']))"
      ],
      "metadata": {
        "colab": {
          "base_uri": "https://localhost:8080/"
        },
        "id": "JrTjE5YkI1GM",
        "outputId": "7303eaf3-c7a2-49de-9b30-4ad311c21949"
      },
      "execution_count": 136,
      "outputs": [
        {
          "output_type": "stream",
          "name": "stdout",
          "text": [
            "Chris bought 4 item(s) at a price of 3.24 each for a total  of 12.96\n"
          ]
        }
      ]
    },
    {
      "cell_type": "markdown",
      "source": [
        "## ***Python Demonstration: Reading and Writing CSV files***\n"
      ],
      "metadata": {
        "id": "zZIogEIBKLu4"
      }
    },
    {
      "cell_type": "markdown",
      "source": [
        "<b>Data Files and Summary Statistics</b>"
      ],
      "metadata": {
        "id": "47QtEaYGKS9f"
      }
    },
    {
      "cell_type": "code",
      "source": [
        "#import library\n",
        "import csv\n",
        "%precision 2\n",
        "\n",
        "with open('mpg.csv') as csvfile:\n",
        "  mpg = list(csv.DictReader(csvfile))\n",
        "\n",
        "mpg[:3]"
      ],
      "metadata": {
        "colab": {
          "base_uri": "https://localhost:8080/"
        },
        "id": "G1jf_1rfJ3FC",
        "outputId": "955956dd-1b85-4214-d53b-61599cc49005"
      },
      "execution_count": 137,
      "outputs": [
        {
          "output_type": "execute_result",
          "data": {
            "text/plain": [
              "[OrderedDict([('', '1'),\n",
              "              ('manufacturer', 'audi'),\n",
              "              ('model', 'a4'),\n",
              "              ('displ', '1.8'),\n",
              "              ('year', '1999'),\n",
              "              ('cyl', '4'),\n",
              "              ('trans', 'auto(l5)'),\n",
              "              ('drv', 'f'),\n",
              "              ('cty', '18'),\n",
              "              ('hwy', '29'),\n",
              "              ('fl', 'p'),\n",
              "              ('class', 'compact')]),\n",
              " OrderedDict([('', '2'),\n",
              "              ('manufacturer', 'audi'),\n",
              "              ('model', 'a4'),\n",
              "              ('displ', '1.8'),\n",
              "              ('year', '1999'),\n",
              "              ('cyl', '4'),\n",
              "              ('trans', 'manual(m5)'),\n",
              "              ('drv', 'f'),\n",
              "              ('cty', '21'),\n",
              "              ('hwy', '29'),\n",
              "              ('fl', 'p'),\n",
              "              ('class', 'compact')]),\n",
              " OrderedDict([('', '3'),\n",
              "              ('manufacturer', 'audi'),\n",
              "              ('model', 'a4'),\n",
              "              ('displ', '2'),\n",
              "              ('year', '2008'),\n",
              "              ('cyl', '4'),\n",
              "              ('trans', 'manual(m6)'),\n",
              "              ('drv', 'f'),\n",
              "              ('cty', '20'),\n",
              "              ('hwy', '31'),\n",
              "              ('fl', 'p'),\n",
              "              ('class', 'compact')])]"
            ]
          },
          "metadata": {},
          "execution_count": 137
        }
      ]
    },
    {
      "cell_type": "code",
      "source": [
        "len(mpg)"
      ],
      "metadata": {
        "colab": {
          "base_uri": "https://localhost:8080/"
        },
        "id": "h_JuqztILVZS",
        "outputId": "9cdb4b33-c1c8-4225-c97f-490ad043d332"
      },
      "execution_count": 138,
      "outputs": [
        {
          "output_type": "execute_result",
          "data": {
            "text/plain": [
              "234"
            ]
          },
          "metadata": {},
          "execution_count": 138
        }
      ]
    },
    {
      "cell_type": "code",
      "source": [
        "mpg[0].keys()"
      ],
      "metadata": {
        "colab": {
          "base_uri": "https://localhost:8080/"
        },
        "id": "8t-eWz86LZzG",
        "outputId": "cb85bce3-04dc-4f36-f4bd-1a1371b7f69c"
      },
      "execution_count": 139,
      "outputs": [
        {
          "output_type": "execute_result",
          "data": {
            "text/plain": [
              "odict_keys(['', 'manufacturer', 'model', 'displ', 'year', 'cyl', 'trans', 'drv', 'cty', 'hwy', 'fl', 'class'])"
            ]
          },
          "metadata": {},
          "execution_count": 139
        }
      ]
    },
    {
      "cell_type": "code",
      "source": [
        "sum(float(d['cty']) for d in mpg) / len(mpg)"
      ],
      "metadata": {
        "colab": {
          "base_uri": "https://localhost:8080/"
        },
        "id": "982lF_cELpA0",
        "outputId": "425f51b6-292e-4b22-ee0f-a664373f80a4"
      },
      "execution_count": 140,
      "outputs": [
        {
          "output_type": "execute_result",
          "data": {
            "text/plain": [
              "16.86"
            ]
          },
          "metadata": {},
          "execution_count": 140
        }
      ]
    },
    {
      "cell_type": "code",
      "source": [
        "sum(float(d['hwy']) for d in mpg)/ len(mpg)"
      ],
      "metadata": {
        "colab": {
          "base_uri": "https://localhost:8080/"
        },
        "id": "JuobG_Z2L7zP",
        "outputId": "a05a06da-eadb-44fc-e545-8a877809983b"
      },
      "execution_count": 141,
      "outputs": [
        {
          "output_type": "execute_result",
          "data": {
            "text/plain": [
              "23.44"
            ]
          },
          "metadata": {},
          "execution_count": 141
        }
      ]
    },
    {
      "cell_type": "code",
      "source": [
        "cyllinders = set(d['cyl'] for d in mpg)\n",
        "cyllinders"
      ],
      "metadata": {
        "colab": {
          "base_uri": "https://localhost:8080/"
        },
        "id": "NTiVcwYFMDjb",
        "outputId": "b669bcb9-df90-4292-ad15-07201aa88101"
      },
      "execution_count": 142,
      "outputs": [
        {
          "output_type": "execute_result",
          "data": {
            "text/plain": [
              "{'4', '5', '6', '8'}"
            ]
          },
          "metadata": {},
          "execution_count": 142
        }
      ]
    },
    {
      "cell_type": "code",
      "source": [
        "CtyMpgByCyl = []\n",
        "for c in cyllinders:\n",
        "  summpg = 0\n",
        "  cyltypecount = 0\n",
        "  for d in mpg:\n",
        "    if d['cyl'] == c:\n",
        "      summpg += float(d['cty'])\n",
        "      cyltypecount += 1\n",
        "  CtyMpgByCyl.append((c,summpg / cyltypecount))\n",
        "\n",
        "CtyMpgByCyl.sort(key=lambda x: x[0])\n",
        "CtyMpgByCyl"
      ],
      "metadata": {
        "colab": {
          "base_uri": "https://localhost:8080/"
        },
        "id": "PMU8a0iKMQL5",
        "outputId": "7b49c826-cabe-4f42-9c28-e57e02938bba"
      },
      "execution_count": 143,
      "outputs": [
        {
          "output_type": "execute_result",
          "data": {
            "text/plain": [
              "[('4', 21.01), ('5', 20.50), ('6', 16.22), ('8', 12.57)]"
            ]
          },
          "metadata": {},
          "execution_count": 143
        }
      ]
    },
    {
      "cell_type": "code",
      "source": [
        "vehicleclass = set(d['class'] for d in mpg)\n",
        "vehicleclass"
      ],
      "metadata": {
        "colab": {
          "base_uri": "https://localhost:8080/"
        },
        "id": "vxlbotmPOe7U",
        "outputId": "28ce550d-18ce-43cf-dac3-2ab69abd4043"
      },
      "execution_count": 144,
      "outputs": [
        {
          "output_type": "execute_result",
          "data": {
            "text/plain": [
              "{'2seater', 'compact', 'midsize', 'minivan', 'pickup', 'subcompact', 'suv'}"
            ]
          },
          "metadata": {},
          "execution_count": 144
        }
      ]
    },
    {
      "cell_type": "markdown",
      "source": [
        "# ***Python Dates and Times***\n"
      ],
      "metadata": {
        "id": "NWThhUNIPNtQ"
      }
    },
    {
      "cell_type": "code",
      "source": [
        "import datetime as dt\n",
        "import time as tm"
      ],
      "metadata": {
        "id": "wXcQueLfO7fD"
      },
      "execution_count": 145,
      "outputs": []
    },
    {
      "cell_type": "code",
      "source": [
        "tm.time()"
      ],
      "metadata": {
        "colab": {
          "base_uri": "https://localhost:8080/"
        },
        "id": "vjnqIuR-PlOn",
        "outputId": "08151e65-9165-45aa-f8ea-2500bfbf0fcb"
      },
      "execution_count": 146,
      "outputs": [
        {
          "output_type": "execute_result",
          "data": {
            "text/plain": [
              "1656085496.04"
            ]
          },
          "metadata": {},
          "execution_count": 146
        }
      ]
    },
    {
      "cell_type": "code",
      "source": [
        "dtnow = dt.datetime.fromtimestamp(tm.time())\n",
        "dtnow"
      ],
      "metadata": {
        "colab": {
          "base_uri": "https://localhost:8080/"
        },
        "id": "gtnq8UiZPn5t",
        "outputId": "3ff786cf-58d1-4c0e-f7cb-2a928f404cef"
      },
      "execution_count": 147,
      "outputs": [
        {
          "output_type": "execute_result",
          "data": {
            "text/plain": [
              "datetime.datetime(2022, 6, 24, 15, 44, 56, 58324)"
            ]
          },
          "metadata": {},
          "execution_count": 147
        }
      ]
    },
    {
      "cell_type": "code",
      "source": [
        "dtnow.year, dtnow.month, dtnow.day, dtnow.hour, dtnow.minute, dtnow.second"
      ],
      "metadata": {
        "colab": {
          "base_uri": "https://localhost:8080/"
        },
        "id": "R8XZlYQSQANq",
        "outputId": "20345ac1-409b-43da-ed9c-11447cd06805"
      },
      "execution_count": 148,
      "outputs": [
        {
          "output_type": "execute_result",
          "data": {
            "text/plain": [
              "(2022, 6, 24, 15, 44, 56)"
            ]
          },
          "metadata": {},
          "execution_count": 148
        }
      ]
    },
    {
      "cell_type": "code",
      "source": [
        "delta = dt.timedelta(days = 100)"
      ],
      "metadata": {
        "id": "fAlOBYSDQOsm"
      },
      "execution_count": 149,
      "outputs": []
    },
    {
      "cell_type": "code",
      "source": [
        "today = dt.date.today()"
      ],
      "metadata": {
        "id": "-NTPDrvbQXUd"
      },
      "execution_count": 150,
      "outputs": []
    },
    {
      "cell_type": "code",
      "source": [
        "today - delta"
      ],
      "metadata": {
        "colab": {
          "base_uri": "https://localhost:8080/"
        },
        "id": "-KaAqjdPQdPu",
        "outputId": "4c11ad25-5cf1-4d40-f0f4-2e2221a39baf"
      },
      "execution_count": 151,
      "outputs": [
        {
          "output_type": "execute_result",
          "data": {
            "text/plain": [
              "datetime.date(2022, 3, 16)"
            ]
          },
          "metadata": {},
          "execution_count": 151
        }
      ]
    },
    {
      "cell_type": "code",
      "source": [
        "today > today-delta"
      ],
      "metadata": {
        "colab": {
          "base_uri": "https://localhost:8080/"
        },
        "id": "XefYG-dWQf0K",
        "outputId": "c30620ed-7eeb-4ac7-ccf9-548827700bd7"
      },
      "execution_count": 152,
      "outputs": [
        {
          "output_type": "execute_result",
          "data": {
            "text/plain": [
              "True"
            ]
          },
          "metadata": {},
          "execution_count": 152
        }
      ]
    },
    {
      "cell_type": "markdown",
      "source": [
        "# ***Advanced Python Objects, map()***\n"
      ],
      "metadata": {
        "id": "bJo-Y8qWkDe6"
      }
    },
    {
      "cell_type": "code",
      "source": [
        "class Person:\n",
        "  departament = 'School of Information'\n",
        "\n",
        "  def set_name(self, new_name):\n",
        "    self.name = new_name\n",
        "\n",
        "  def set_location(self, new_location):\n",
        "    self.location = new_location"
      ],
      "metadata": {
        "id": "fBGxOICKQlIx"
      },
      "execution_count": 153,
      "outputs": []
    },
    {
      "cell_type": "code",
      "source": [
        "person = Person()\n",
        "person.set_name('Kurmanbekov Nursultan')\n",
        "person.set_location('New Your, Wall Stree 001')\n",
        "print('{} live in {} and works  in the departament {}'.format(person.name, person.location, person.departament))"
      ],
      "metadata": {
        "id": "c7lB-imDkfyb",
        "colab": {
          "base_uri": "https://localhost:8080/"
        },
        "outputId": "4d1596f2-d67c-4eaf-d36d-d69efd87c827"
      },
      "execution_count": 154,
      "outputs": [
        {
          "output_type": "stream",
          "name": "stdout",
          "text": [
            "Kurmanbekov Nursultan live in New Your, Wall Stree 001 and works  in the departament School of Information\n"
          ]
        }
      ]
    },
    {
      "cell_type": "code",
      "source": [
        "store1 = [10.00, 11.00, 12.34, 2.34]\n",
        "store2 = [9.00, 11.00, 12.34, 2.01]\n",
        "cheapest =  map(min, store1, store2)\n",
        "cheapest"
      ],
      "metadata": {
        "colab": {
          "base_uri": "https://localhost:8080/"
        },
        "id": "f-enFSgv7Mcl",
        "outputId": "eb96cae0-4920-495a-9051-4dd9b96b862c"
      },
      "execution_count": 155,
      "outputs": [
        {
          "output_type": "execute_result",
          "data": {
            "text/plain": [
              "<map at 0x7f0b4f810090>"
            ]
          },
          "metadata": {},
          "execution_count": 155
        }
      ]
    },
    {
      "cell_type": "markdown",
      "source": [
        "***Here is a list of faculty teaching this MOOC. Can you write a function and apply it using map() to get a list of all faculty titles and last names (e.g. ['Dr. Brooks', 'Dr. Collins-Thompson', …]) ?***"
      ],
      "metadata": {
        "id": "Vh-vWoE370bL"
      }
    },
    {
      "cell_type": "markdown",
      "source": [
        "\n",
        "\n",
        "```\n",
        "people = ['Dr. Christopher Brooks', 'Dr. Kevyn Collins-Thompson', 'Dr. VG Vinod Vydiswaran', 'Dr. Daniel Romero']\n",
        "\n",
        "def split_title_and_name(person):\n",
        "    return #Your answer here\n",
        "\n",
        "list(map(#Your answer here))\n",
        "\n",
        "```\n",
        "\n"
      ],
      "metadata": {
        "id": "9wAQXAY173L4"
      }
    },
    {
      "cell_type": "code",
      "source": [
        "people = ['Dr. Christopher Brooks', 'Dr. Kevyn Collins-Thompson', 'Dr. VG Vinod Vydiswaran', 'Dr. Daniel Romero']\n",
        "\n",
        "def split_title_and_name(person):\n",
        "    title = person.split()[0]\n",
        "    lastname = person.split()[-1]\n",
        "    return '{} {}'.format(title, lastname)\n",
        "\n",
        "list(map(split_title_and_name, people))"
      ],
      "metadata": {
        "colab": {
          "base_uri": "https://localhost:8080/"
        },
        "id": "lPB6OOie7-GA",
        "outputId": "8c724057-4e94-4d11-e054-77583fe672a8"
      },
      "execution_count": 156,
      "outputs": [
        {
          "output_type": "execute_result",
          "data": {
            "text/plain": [
              "['Dr. Brooks', 'Dr. Collins-Thompson', 'Dr. Vydiswaran', 'Dr. Romero']"
            ]
          },
          "metadata": {},
          "execution_count": 156
        }
      ]
    },
    {
      "cell_type": "markdown",
      "source": [
        "# ***Advanced Python Lambda and List Comprehensions***\n"
      ],
      "metadata": {
        "id": "J4m_o2E78T8Q"
      }
    },
    {
      "cell_type": "code",
      "source": [
        "my_function = lambda a, b, c  : a + b"
      ],
      "metadata": {
        "id": "-ortJKyw8K0Z"
      },
      "execution_count": 157,
      "outputs": []
    },
    {
      "cell_type": "code",
      "source": [
        "my_function(1,2,3)"
      ],
      "metadata": {
        "colab": {
          "base_uri": "https://localhost:8080/"
        },
        "id": "JHQJ9J3T8oUN",
        "outputId": "f4e040fa-18a6-476a-98e0-8a04eadf5e06"
      },
      "execution_count": 158,
      "outputs": [
        {
          "output_type": "execute_result",
          "data": {
            "text/plain": [
              "3"
            ]
          },
          "metadata": {},
          "execution_count": 158
        }
      ]
    },
    {
      "cell_type": "markdown",
      "source": [
        "***Convert this function into a lambda:***"
      ],
      "metadata": {
        "id": "AP7ALG3d8zyi"
      }
    },
    {
      "cell_type": "markdown",
      "source": [
        "\n",
        "\n",
        "```\n",
        "people = ['Dr. Christopher Brooks', 'Dr. Kevyn Collins-Thompson', 'Dr. VG Vinod Vydiswaran', 'Dr. Daniel Romero']\n",
        "\n",
        "def split_title_and_name(person):\n",
        "    return person.split()[0] + ' ' + person.split()[-1]\n",
        "\n",
        "#option 1\n",
        "for person in people:\n",
        "    print(split_title_and_name(person) == (lambda person:???))\n",
        "\n",
        "#option 2\n",
        "#list(map(split_title_and_name, people)) == list(map(???))\n",
        "\n",
        "```\n",
        "\n"
      ],
      "metadata": {
        "id": "FOAUmd0e81wo"
      }
    },
    {
      "cell_type": "code",
      "source": [
        "people = ['Dr. Christopher Brooks', 'Dr. Kevyn Collins-Thompson', 'Dr. VG Vinod Vydiswaran', 'Dr. Daniel Romero']\n",
        "\n",
        "def split_title_and_name(person):\n",
        "    return person.split()[0] + ' ' + person.split()[-1]\n",
        "\n",
        "#option 1\n",
        "for person in people:\n",
        "    print(split_title_and_name(person) == (lambda x: x.split()[0] + ' ' + x.split()[-1])(person))\n",
        "\n",
        "#option 2\n",
        "list(map(split_title_and_name, people)) == list(map(lambda person: person.split()[0] + ' ' + person.split()[-1], people))"
      ],
      "metadata": {
        "colab": {
          "base_uri": "https://localhost:8080/"
        },
        "id": "16iHqJMv8scF",
        "outputId": "da3121b3-5ecf-47d8-83d6-3fd8bf45bd0b"
      },
      "execution_count": 159,
      "outputs": [
        {
          "output_type": "stream",
          "name": "stdout",
          "text": [
            "True\n",
            "True\n",
            "True\n",
            "True\n"
          ]
        },
        {
          "output_type": "execute_result",
          "data": {
            "text/plain": [
              "True"
            ]
          },
          "metadata": {},
          "execution_count": 159
        }
      ]
    },
    {
      "cell_type": "code",
      "source": [
        "my_list = []\n",
        "for number  in range(0, 1000):\n",
        "  if number  % 2 == 0:\n",
        "    my_list.append(number)\n",
        "my_list"
      ],
      "metadata": {
        "colab": {
          "base_uri": "https://localhost:8080/"
        },
        "id": "CSZ6DMoY9SRD",
        "outputId": "4d72a6f0-6fe1-4614-d2cd-ba123e4ae33d"
      },
      "execution_count": 160,
      "outputs": [
        {
          "output_type": "execute_result",
          "data": {
            "text/plain": [
              "[0,\n",
              " 2,\n",
              " 4,\n",
              " 6,\n",
              " 8,\n",
              " 10,\n",
              " 12,\n",
              " 14,\n",
              " 16,\n",
              " 18,\n",
              " 20,\n",
              " 22,\n",
              " 24,\n",
              " 26,\n",
              " 28,\n",
              " 30,\n",
              " 32,\n",
              " 34,\n",
              " 36,\n",
              " 38,\n",
              " 40,\n",
              " 42,\n",
              " 44,\n",
              " 46,\n",
              " 48,\n",
              " 50,\n",
              " 52,\n",
              " 54,\n",
              " 56,\n",
              " 58,\n",
              " 60,\n",
              " 62,\n",
              " 64,\n",
              " 66,\n",
              " 68,\n",
              " 70,\n",
              " 72,\n",
              " 74,\n",
              " 76,\n",
              " 78,\n",
              " 80,\n",
              " 82,\n",
              " 84,\n",
              " 86,\n",
              " 88,\n",
              " 90,\n",
              " 92,\n",
              " 94,\n",
              " 96,\n",
              " 98,\n",
              " 100,\n",
              " 102,\n",
              " 104,\n",
              " 106,\n",
              " 108,\n",
              " 110,\n",
              " 112,\n",
              " 114,\n",
              " 116,\n",
              " 118,\n",
              " 120,\n",
              " 122,\n",
              " 124,\n",
              " 126,\n",
              " 128,\n",
              " 130,\n",
              " 132,\n",
              " 134,\n",
              " 136,\n",
              " 138,\n",
              " 140,\n",
              " 142,\n",
              " 144,\n",
              " 146,\n",
              " 148,\n",
              " 150,\n",
              " 152,\n",
              " 154,\n",
              " 156,\n",
              " 158,\n",
              " 160,\n",
              " 162,\n",
              " 164,\n",
              " 166,\n",
              " 168,\n",
              " 170,\n",
              " 172,\n",
              " 174,\n",
              " 176,\n",
              " 178,\n",
              " 180,\n",
              " 182,\n",
              " 184,\n",
              " 186,\n",
              " 188,\n",
              " 190,\n",
              " 192,\n",
              " 194,\n",
              " 196,\n",
              " 198,\n",
              " 200,\n",
              " 202,\n",
              " 204,\n",
              " 206,\n",
              " 208,\n",
              " 210,\n",
              " 212,\n",
              " 214,\n",
              " 216,\n",
              " 218,\n",
              " 220,\n",
              " 222,\n",
              " 224,\n",
              " 226,\n",
              " 228,\n",
              " 230,\n",
              " 232,\n",
              " 234,\n",
              " 236,\n",
              " 238,\n",
              " 240,\n",
              " 242,\n",
              " 244,\n",
              " 246,\n",
              " 248,\n",
              " 250,\n",
              " 252,\n",
              " 254,\n",
              " 256,\n",
              " 258,\n",
              " 260,\n",
              " 262,\n",
              " 264,\n",
              " 266,\n",
              " 268,\n",
              " 270,\n",
              " 272,\n",
              " 274,\n",
              " 276,\n",
              " 278,\n",
              " 280,\n",
              " 282,\n",
              " 284,\n",
              " 286,\n",
              " 288,\n",
              " 290,\n",
              " 292,\n",
              " 294,\n",
              " 296,\n",
              " 298,\n",
              " 300,\n",
              " 302,\n",
              " 304,\n",
              " 306,\n",
              " 308,\n",
              " 310,\n",
              " 312,\n",
              " 314,\n",
              " 316,\n",
              " 318,\n",
              " 320,\n",
              " 322,\n",
              " 324,\n",
              " 326,\n",
              " 328,\n",
              " 330,\n",
              " 332,\n",
              " 334,\n",
              " 336,\n",
              " 338,\n",
              " 340,\n",
              " 342,\n",
              " 344,\n",
              " 346,\n",
              " 348,\n",
              " 350,\n",
              " 352,\n",
              " 354,\n",
              " 356,\n",
              " 358,\n",
              " 360,\n",
              " 362,\n",
              " 364,\n",
              " 366,\n",
              " 368,\n",
              " 370,\n",
              " 372,\n",
              " 374,\n",
              " 376,\n",
              " 378,\n",
              " 380,\n",
              " 382,\n",
              " 384,\n",
              " 386,\n",
              " 388,\n",
              " 390,\n",
              " 392,\n",
              " 394,\n",
              " 396,\n",
              " 398,\n",
              " 400,\n",
              " 402,\n",
              " 404,\n",
              " 406,\n",
              " 408,\n",
              " 410,\n",
              " 412,\n",
              " 414,\n",
              " 416,\n",
              " 418,\n",
              " 420,\n",
              " 422,\n",
              " 424,\n",
              " 426,\n",
              " 428,\n",
              " 430,\n",
              " 432,\n",
              " 434,\n",
              " 436,\n",
              " 438,\n",
              " 440,\n",
              " 442,\n",
              " 444,\n",
              " 446,\n",
              " 448,\n",
              " 450,\n",
              " 452,\n",
              " 454,\n",
              " 456,\n",
              " 458,\n",
              " 460,\n",
              " 462,\n",
              " 464,\n",
              " 466,\n",
              " 468,\n",
              " 470,\n",
              " 472,\n",
              " 474,\n",
              " 476,\n",
              " 478,\n",
              " 480,\n",
              " 482,\n",
              " 484,\n",
              " 486,\n",
              " 488,\n",
              " 490,\n",
              " 492,\n",
              " 494,\n",
              " 496,\n",
              " 498,\n",
              " 500,\n",
              " 502,\n",
              " 504,\n",
              " 506,\n",
              " 508,\n",
              " 510,\n",
              " 512,\n",
              " 514,\n",
              " 516,\n",
              " 518,\n",
              " 520,\n",
              " 522,\n",
              " 524,\n",
              " 526,\n",
              " 528,\n",
              " 530,\n",
              " 532,\n",
              " 534,\n",
              " 536,\n",
              " 538,\n",
              " 540,\n",
              " 542,\n",
              " 544,\n",
              " 546,\n",
              " 548,\n",
              " 550,\n",
              " 552,\n",
              " 554,\n",
              " 556,\n",
              " 558,\n",
              " 560,\n",
              " 562,\n",
              " 564,\n",
              " 566,\n",
              " 568,\n",
              " 570,\n",
              " 572,\n",
              " 574,\n",
              " 576,\n",
              " 578,\n",
              " 580,\n",
              " 582,\n",
              " 584,\n",
              " 586,\n",
              " 588,\n",
              " 590,\n",
              " 592,\n",
              " 594,\n",
              " 596,\n",
              " 598,\n",
              " 600,\n",
              " 602,\n",
              " 604,\n",
              " 606,\n",
              " 608,\n",
              " 610,\n",
              " 612,\n",
              " 614,\n",
              " 616,\n",
              " 618,\n",
              " 620,\n",
              " 622,\n",
              " 624,\n",
              " 626,\n",
              " 628,\n",
              " 630,\n",
              " 632,\n",
              " 634,\n",
              " 636,\n",
              " 638,\n",
              " 640,\n",
              " 642,\n",
              " 644,\n",
              " 646,\n",
              " 648,\n",
              " 650,\n",
              " 652,\n",
              " 654,\n",
              " 656,\n",
              " 658,\n",
              " 660,\n",
              " 662,\n",
              " 664,\n",
              " 666,\n",
              " 668,\n",
              " 670,\n",
              " 672,\n",
              " 674,\n",
              " 676,\n",
              " 678,\n",
              " 680,\n",
              " 682,\n",
              " 684,\n",
              " 686,\n",
              " 688,\n",
              " 690,\n",
              " 692,\n",
              " 694,\n",
              " 696,\n",
              " 698,\n",
              " 700,\n",
              " 702,\n",
              " 704,\n",
              " 706,\n",
              " 708,\n",
              " 710,\n",
              " 712,\n",
              " 714,\n",
              " 716,\n",
              " 718,\n",
              " 720,\n",
              " 722,\n",
              " 724,\n",
              " 726,\n",
              " 728,\n",
              " 730,\n",
              " 732,\n",
              " 734,\n",
              " 736,\n",
              " 738,\n",
              " 740,\n",
              " 742,\n",
              " 744,\n",
              " 746,\n",
              " 748,\n",
              " 750,\n",
              " 752,\n",
              " 754,\n",
              " 756,\n",
              " 758,\n",
              " 760,\n",
              " 762,\n",
              " 764,\n",
              " 766,\n",
              " 768,\n",
              " 770,\n",
              " 772,\n",
              " 774,\n",
              " 776,\n",
              " 778,\n",
              " 780,\n",
              " 782,\n",
              " 784,\n",
              " 786,\n",
              " 788,\n",
              " 790,\n",
              " 792,\n",
              " 794,\n",
              " 796,\n",
              " 798,\n",
              " 800,\n",
              " 802,\n",
              " 804,\n",
              " 806,\n",
              " 808,\n",
              " 810,\n",
              " 812,\n",
              " 814,\n",
              " 816,\n",
              " 818,\n",
              " 820,\n",
              " 822,\n",
              " 824,\n",
              " 826,\n",
              " 828,\n",
              " 830,\n",
              " 832,\n",
              " 834,\n",
              " 836,\n",
              " 838,\n",
              " 840,\n",
              " 842,\n",
              " 844,\n",
              " 846,\n",
              " 848,\n",
              " 850,\n",
              " 852,\n",
              " 854,\n",
              " 856,\n",
              " 858,\n",
              " 860,\n",
              " 862,\n",
              " 864,\n",
              " 866,\n",
              " 868,\n",
              " 870,\n",
              " 872,\n",
              " 874,\n",
              " 876,\n",
              " 878,\n",
              " 880,\n",
              " 882,\n",
              " 884,\n",
              " 886,\n",
              " 888,\n",
              " 890,\n",
              " 892,\n",
              " 894,\n",
              " 896,\n",
              " 898,\n",
              " 900,\n",
              " 902,\n",
              " 904,\n",
              " 906,\n",
              " 908,\n",
              " 910,\n",
              " 912,\n",
              " 914,\n",
              " 916,\n",
              " 918,\n",
              " 920,\n",
              " 922,\n",
              " 924,\n",
              " 926,\n",
              " 928,\n",
              " 930,\n",
              " 932,\n",
              " 934,\n",
              " 936,\n",
              " 938,\n",
              " 940,\n",
              " 942,\n",
              " 944,\n",
              " 946,\n",
              " 948,\n",
              " 950,\n",
              " 952,\n",
              " 954,\n",
              " 956,\n",
              " 958,\n",
              " 960,\n",
              " 962,\n",
              " 964,\n",
              " 966,\n",
              " 968,\n",
              " 970,\n",
              " 972,\n",
              " 974,\n",
              " 976,\n",
              " 978,\n",
              " 980,\n",
              " 982,\n",
              " 984,\n",
              " 986,\n",
              " 988,\n",
              " 990,\n",
              " 992,\n",
              " 994,\n",
              " 996,\n",
              " 998]"
            ]
          },
          "metadata": {},
          "execution_count": 160
        }
      ]
    },
    {
      "cell_type": "code",
      "source": [
        "my_list = [number for number in range(0, 1000) if number % 2 == 0 ]"
      ],
      "metadata": {
        "id": "tUwZ4Mo79kXv"
      },
      "execution_count": 161,
      "outputs": []
    },
    {
      "cell_type": "code",
      "source": [
        "my_list"
      ],
      "metadata": {
        "colab": {
          "base_uri": "https://localhost:8080/"
        },
        "id": "XdbOkUIi9yut",
        "outputId": "8cce6d2a-3934-445b-d878-ac896837190a"
      },
      "execution_count": 162,
      "outputs": [
        {
          "output_type": "execute_result",
          "data": {
            "text/plain": [
              "[0,\n",
              " 2,\n",
              " 4,\n",
              " 6,\n",
              " 8,\n",
              " 10,\n",
              " 12,\n",
              " 14,\n",
              " 16,\n",
              " 18,\n",
              " 20,\n",
              " 22,\n",
              " 24,\n",
              " 26,\n",
              " 28,\n",
              " 30,\n",
              " 32,\n",
              " 34,\n",
              " 36,\n",
              " 38,\n",
              " 40,\n",
              " 42,\n",
              " 44,\n",
              " 46,\n",
              " 48,\n",
              " 50,\n",
              " 52,\n",
              " 54,\n",
              " 56,\n",
              " 58,\n",
              " 60,\n",
              " 62,\n",
              " 64,\n",
              " 66,\n",
              " 68,\n",
              " 70,\n",
              " 72,\n",
              " 74,\n",
              " 76,\n",
              " 78,\n",
              " 80,\n",
              " 82,\n",
              " 84,\n",
              " 86,\n",
              " 88,\n",
              " 90,\n",
              " 92,\n",
              " 94,\n",
              " 96,\n",
              " 98,\n",
              " 100,\n",
              " 102,\n",
              " 104,\n",
              " 106,\n",
              " 108,\n",
              " 110,\n",
              " 112,\n",
              " 114,\n",
              " 116,\n",
              " 118,\n",
              " 120,\n",
              " 122,\n",
              " 124,\n",
              " 126,\n",
              " 128,\n",
              " 130,\n",
              " 132,\n",
              " 134,\n",
              " 136,\n",
              " 138,\n",
              " 140,\n",
              " 142,\n",
              " 144,\n",
              " 146,\n",
              " 148,\n",
              " 150,\n",
              " 152,\n",
              " 154,\n",
              " 156,\n",
              " 158,\n",
              " 160,\n",
              " 162,\n",
              " 164,\n",
              " 166,\n",
              " 168,\n",
              " 170,\n",
              " 172,\n",
              " 174,\n",
              " 176,\n",
              " 178,\n",
              " 180,\n",
              " 182,\n",
              " 184,\n",
              " 186,\n",
              " 188,\n",
              " 190,\n",
              " 192,\n",
              " 194,\n",
              " 196,\n",
              " 198,\n",
              " 200,\n",
              " 202,\n",
              " 204,\n",
              " 206,\n",
              " 208,\n",
              " 210,\n",
              " 212,\n",
              " 214,\n",
              " 216,\n",
              " 218,\n",
              " 220,\n",
              " 222,\n",
              " 224,\n",
              " 226,\n",
              " 228,\n",
              " 230,\n",
              " 232,\n",
              " 234,\n",
              " 236,\n",
              " 238,\n",
              " 240,\n",
              " 242,\n",
              " 244,\n",
              " 246,\n",
              " 248,\n",
              " 250,\n",
              " 252,\n",
              " 254,\n",
              " 256,\n",
              " 258,\n",
              " 260,\n",
              " 262,\n",
              " 264,\n",
              " 266,\n",
              " 268,\n",
              " 270,\n",
              " 272,\n",
              " 274,\n",
              " 276,\n",
              " 278,\n",
              " 280,\n",
              " 282,\n",
              " 284,\n",
              " 286,\n",
              " 288,\n",
              " 290,\n",
              " 292,\n",
              " 294,\n",
              " 296,\n",
              " 298,\n",
              " 300,\n",
              " 302,\n",
              " 304,\n",
              " 306,\n",
              " 308,\n",
              " 310,\n",
              " 312,\n",
              " 314,\n",
              " 316,\n",
              " 318,\n",
              " 320,\n",
              " 322,\n",
              " 324,\n",
              " 326,\n",
              " 328,\n",
              " 330,\n",
              " 332,\n",
              " 334,\n",
              " 336,\n",
              " 338,\n",
              " 340,\n",
              " 342,\n",
              " 344,\n",
              " 346,\n",
              " 348,\n",
              " 350,\n",
              " 352,\n",
              " 354,\n",
              " 356,\n",
              " 358,\n",
              " 360,\n",
              " 362,\n",
              " 364,\n",
              " 366,\n",
              " 368,\n",
              " 370,\n",
              " 372,\n",
              " 374,\n",
              " 376,\n",
              " 378,\n",
              " 380,\n",
              " 382,\n",
              " 384,\n",
              " 386,\n",
              " 388,\n",
              " 390,\n",
              " 392,\n",
              " 394,\n",
              " 396,\n",
              " 398,\n",
              " 400,\n",
              " 402,\n",
              " 404,\n",
              " 406,\n",
              " 408,\n",
              " 410,\n",
              " 412,\n",
              " 414,\n",
              " 416,\n",
              " 418,\n",
              " 420,\n",
              " 422,\n",
              " 424,\n",
              " 426,\n",
              " 428,\n",
              " 430,\n",
              " 432,\n",
              " 434,\n",
              " 436,\n",
              " 438,\n",
              " 440,\n",
              " 442,\n",
              " 444,\n",
              " 446,\n",
              " 448,\n",
              " 450,\n",
              " 452,\n",
              " 454,\n",
              " 456,\n",
              " 458,\n",
              " 460,\n",
              " 462,\n",
              " 464,\n",
              " 466,\n",
              " 468,\n",
              " 470,\n",
              " 472,\n",
              " 474,\n",
              " 476,\n",
              " 478,\n",
              " 480,\n",
              " 482,\n",
              " 484,\n",
              " 486,\n",
              " 488,\n",
              " 490,\n",
              " 492,\n",
              " 494,\n",
              " 496,\n",
              " 498,\n",
              " 500,\n",
              " 502,\n",
              " 504,\n",
              " 506,\n",
              " 508,\n",
              " 510,\n",
              " 512,\n",
              " 514,\n",
              " 516,\n",
              " 518,\n",
              " 520,\n",
              " 522,\n",
              " 524,\n",
              " 526,\n",
              " 528,\n",
              " 530,\n",
              " 532,\n",
              " 534,\n",
              " 536,\n",
              " 538,\n",
              " 540,\n",
              " 542,\n",
              " 544,\n",
              " 546,\n",
              " 548,\n",
              " 550,\n",
              " 552,\n",
              " 554,\n",
              " 556,\n",
              " 558,\n",
              " 560,\n",
              " 562,\n",
              " 564,\n",
              " 566,\n",
              " 568,\n",
              " 570,\n",
              " 572,\n",
              " 574,\n",
              " 576,\n",
              " 578,\n",
              " 580,\n",
              " 582,\n",
              " 584,\n",
              " 586,\n",
              " 588,\n",
              " 590,\n",
              " 592,\n",
              " 594,\n",
              " 596,\n",
              " 598,\n",
              " 600,\n",
              " 602,\n",
              " 604,\n",
              " 606,\n",
              " 608,\n",
              " 610,\n",
              " 612,\n",
              " 614,\n",
              " 616,\n",
              " 618,\n",
              " 620,\n",
              " 622,\n",
              " 624,\n",
              " 626,\n",
              " 628,\n",
              " 630,\n",
              " 632,\n",
              " 634,\n",
              " 636,\n",
              " 638,\n",
              " 640,\n",
              " 642,\n",
              " 644,\n",
              " 646,\n",
              " 648,\n",
              " 650,\n",
              " 652,\n",
              " 654,\n",
              " 656,\n",
              " 658,\n",
              " 660,\n",
              " 662,\n",
              " 664,\n",
              " 666,\n",
              " 668,\n",
              " 670,\n",
              " 672,\n",
              " 674,\n",
              " 676,\n",
              " 678,\n",
              " 680,\n",
              " 682,\n",
              " 684,\n",
              " 686,\n",
              " 688,\n",
              " 690,\n",
              " 692,\n",
              " 694,\n",
              " 696,\n",
              " 698,\n",
              " 700,\n",
              " 702,\n",
              " 704,\n",
              " 706,\n",
              " 708,\n",
              " 710,\n",
              " 712,\n",
              " 714,\n",
              " 716,\n",
              " 718,\n",
              " 720,\n",
              " 722,\n",
              " 724,\n",
              " 726,\n",
              " 728,\n",
              " 730,\n",
              " 732,\n",
              " 734,\n",
              " 736,\n",
              " 738,\n",
              " 740,\n",
              " 742,\n",
              " 744,\n",
              " 746,\n",
              " 748,\n",
              " 750,\n",
              " 752,\n",
              " 754,\n",
              " 756,\n",
              " 758,\n",
              " 760,\n",
              " 762,\n",
              " 764,\n",
              " 766,\n",
              " 768,\n",
              " 770,\n",
              " 772,\n",
              " 774,\n",
              " 776,\n",
              " 778,\n",
              " 780,\n",
              " 782,\n",
              " 784,\n",
              " 786,\n",
              " 788,\n",
              " 790,\n",
              " 792,\n",
              " 794,\n",
              " 796,\n",
              " 798,\n",
              " 800,\n",
              " 802,\n",
              " 804,\n",
              " 806,\n",
              " 808,\n",
              " 810,\n",
              " 812,\n",
              " 814,\n",
              " 816,\n",
              " 818,\n",
              " 820,\n",
              " 822,\n",
              " 824,\n",
              " 826,\n",
              " 828,\n",
              " 830,\n",
              " 832,\n",
              " 834,\n",
              " 836,\n",
              " 838,\n",
              " 840,\n",
              " 842,\n",
              " 844,\n",
              " 846,\n",
              " 848,\n",
              " 850,\n",
              " 852,\n",
              " 854,\n",
              " 856,\n",
              " 858,\n",
              " 860,\n",
              " 862,\n",
              " 864,\n",
              " 866,\n",
              " 868,\n",
              " 870,\n",
              " 872,\n",
              " 874,\n",
              " 876,\n",
              " 878,\n",
              " 880,\n",
              " 882,\n",
              " 884,\n",
              " 886,\n",
              " 888,\n",
              " 890,\n",
              " 892,\n",
              " 894,\n",
              " 896,\n",
              " 898,\n",
              " 900,\n",
              " 902,\n",
              " 904,\n",
              " 906,\n",
              " 908,\n",
              " 910,\n",
              " 912,\n",
              " 914,\n",
              " 916,\n",
              " 918,\n",
              " 920,\n",
              " 922,\n",
              " 924,\n",
              " 926,\n",
              " 928,\n",
              " 930,\n",
              " 932,\n",
              " 934,\n",
              " 936,\n",
              " 938,\n",
              " 940,\n",
              " 942,\n",
              " 944,\n",
              " 946,\n",
              " 948,\n",
              " 950,\n",
              " 952,\n",
              " 954,\n",
              " 956,\n",
              " 958,\n",
              " 960,\n",
              " 962,\n",
              " 964,\n",
              " 966,\n",
              " 968,\n",
              " 970,\n",
              " 972,\n",
              " 974,\n",
              " 976,\n",
              " 978,\n",
              " 980,\n",
              " 982,\n",
              " 984,\n",
              " 986,\n",
              " 988,\n",
              " 990,\n",
              " 992,\n",
              " 994,\n",
              " 996,\n",
              " 998]"
            ]
          },
          "metadata": {},
          "execution_count": 162
        }
      ]
    },
    {
      "cell_type": "markdown",
      "source": [
        "***Here, why don’t you try converting a function into a list comprehension.***"
      ],
      "metadata": {
        "id": "F8dBXiIk97dP"
      }
    },
    {
      "cell_type": "markdown",
      "source": [
        "\n",
        "\n",
        "```\n",
        "def times_tables():\n",
        "    lst = []\n",
        "    for i in range(10):\n",
        "        for j in range (10):\n",
        "            lst.append(i*j)\n",
        "    return lst\n",
        "\n",
        "times_tables() == [???]\n",
        "```\n",
        "\n"
      ],
      "metadata": {
        "id": "fYOQsOZX9_W6"
      }
    },
    {
      "cell_type": "code",
      "source": [
        " def times_tables():\n",
        "    lst = []\n",
        "    for i in range(10):\n",
        "        for j in range (10):\n",
        "            lst.append(i*j)\n",
        "    return lst\n",
        "\n",
        "times_tables() == [j * i for i in range(10) for j in range(10)]"
      ],
      "metadata": {
        "colab": {
          "base_uri": "https://localhost:8080/"
        },
        "id": "Ubx50aBz906_",
        "outputId": "2e5ac5b3-4c71-47a5-9fc2-3276820bcc69"
      },
      "execution_count": 163,
      "outputs": [
        {
          "output_type": "execute_result",
          "data": {
            "text/plain": [
              "True"
            ]
          },
          "metadata": {},
          "execution_count": 163
        }
      ]
    },
    {
      "cell_type": "code",
      "source": [
        "def times_tables():\n",
        "    lst = []\n",
        "    for i in range(10):\n",
        "        for j in range (10):\n",
        "            lst.append(i*j)\n",
        "    return lst\n",
        "\n",
        "times_tables() == [j*i for i in range(10) for j in range(10)]"
      ],
      "metadata": {
        "colab": {
          "base_uri": "https://localhost:8080/"
        },
        "id": "SbrfmZEf-Kxl",
        "outputId": "561b5c2b-297a-403d-fe83-e9ad44c0bdbd"
      },
      "execution_count": 164,
      "outputs": [
        {
          "output_type": "execute_result",
          "data": {
            "text/plain": [
              "True"
            ]
          },
          "metadata": {},
          "execution_count": 164
        }
      ]
    },
    {
      "cell_type": "markdown",
      "source": [
        "# ***Numerical Python Library (NumPy)***\n"
      ],
      "metadata": {
        "id": "2rOXy_o2YDbH"
      }
    },
    {
      "cell_type": "markdown",
      "source": [
        "Numpy is the fundamental  package  for numeric computing  with Python. It provides  powerful ways to create, store, and/or manipulate data, which makes  it able  to seamlessly  and  speedily integrate  with  a wide  variety of datebase. This is also the foundation  that Pandas is built  on, which  is a high-perfom data-entric  package that we  will learn  later in the course.\n",
        "\n",
        "In the lecture, we will talk about array certain  data types, manipulating array, selecting elements from arrays, and loading dataset into array. Such functions  are useful  for manipulating data and understanding  the fucntionalities  of other  common Python data-packages."
      ],
      "metadata": {
        "id": "Ta_YZTEYbELV"
      }
    },
    {
      "cell_type": "code",
      "source": [
        "import numpy as np\n",
        "import math "
      ],
      "metadata": {
        "id": "npbAsX0f--lb"
      },
      "execution_count": 165,
      "outputs": []
    },
    {
      "cell_type": "markdown",
      "source": [
        "<b>Array Creation</b>"
      ],
      "metadata": {
        "id": "78d7YbGPcfXe"
      }
    },
    {
      "cell_type": "code",
      "source": [
        "a = np.array([1,2,3])\n",
        "print(a)"
      ],
      "metadata": {
        "colab": {
          "base_uri": "https://localhost:8080/"
        },
        "id": "63E-qllKcegE",
        "outputId": "06327660-37a5-4d25-ddf2-d7f26ea3626e"
      },
      "execution_count": 166,
      "outputs": [
        {
          "output_type": "stream",
          "name": "stdout",
          "text": [
            "[1 2 3]\n"
          ]
        }
      ]
    },
    {
      "cell_type": "code",
      "source": [
        "print(a.ndim)"
      ],
      "metadata": {
        "colab": {
          "base_uri": "https://localhost:8080/"
        },
        "id": "ifAf1q6lcq6v",
        "outputId": "99676967-b1b8-4064-fd08-c6d0bb43fcbf"
      },
      "execution_count": 167,
      "outputs": [
        {
          "output_type": "stream",
          "name": "stdout",
          "text": [
            "1\n"
          ]
        }
      ]
    },
    {
      "cell_type": "code",
      "source": [
        "b = np.array([[1,2,3], [4,5,6]])"
      ],
      "metadata": {
        "id": "lvrVcGbccuGr"
      },
      "execution_count": 168,
      "outputs": []
    },
    {
      "cell_type": "code",
      "source": [
        "print(b.ndim)"
      ],
      "metadata": {
        "colab": {
          "base_uri": "https://localhost:8080/"
        },
        "id": "0PwHriqAc0yq",
        "outputId": "989e1da4-692d-4485-d764-73496a9a8b76"
      },
      "execution_count": 169,
      "outputs": [
        {
          "output_type": "stream",
          "name": "stdout",
          "text": [
            "2\n"
          ]
        }
      ]
    },
    {
      "cell_type": "code",
      "source": [
        "b.shape"
      ],
      "metadata": {
        "colab": {
          "base_uri": "https://localhost:8080/"
        },
        "id": "pXxuP2Abc2oj",
        "outputId": "1a40ce5e-7886-4db8-f9c1-b3a7a74d8a6c"
      },
      "execution_count": 170,
      "outputs": [
        {
          "output_type": "execute_result",
          "data": {
            "text/plain": [
              "(2, 3)"
            ]
          },
          "metadata": {},
          "execution_count": 170
        }
      ]
    },
    {
      "cell_type": "code",
      "source": [
        "a.shape"
      ],
      "metadata": {
        "colab": {
          "base_uri": "https://localhost:8080/"
        },
        "id": "jzrokxbsc4w3",
        "outputId": "4e305bd5-b525-4211-8177-a674895670e5"
      },
      "execution_count": 171,
      "outputs": [
        {
          "output_type": "execute_result",
          "data": {
            "text/plain": [
              "(3,)"
            ]
          },
          "metadata": {},
          "execution_count": 171
        }
      ]
    },
    {
      "cell_type": "code",
      "source": [
        "print(a.dtype)\n",
        "print(b.dtype)"
      ],
      "metadata": {
        "colab": {
          "base_uri": "https://localhost:8080/"
        },
        "id": "Q1ouUtLOc5uj",
        "outputId": "2dbcfc54-e1c2-4b21-ab79-2bc2fb9c4e65"
      },
      "execution_count": 172,
      "outputs": [
        {
          "output_type": "stream",
          "name": "stdout",
          "text": [
            "int64\n",
            "int64\n"
          ]
        }
      ]
    },
    {
      "cell_type": "code",
      "source": [
        "c = np.array([2.2, 3.3, 4.4, 5.5])"
      ],
      "metadata": {
        "id": "ELOLLojHc9Mp"
      },
      "execution_count": 173,
      "outputs": []
    },
    {
      "cell_type": "code",
      "source": [
        "c.dtype"
      ],
      "metadata": {
        "colab": {
          "base_uri": "https://localhost:8080/"
        },
        "id": "ePgy4IELdFwx",
        "outputId": "8e4ed0d8-403d-4fb5-949b-ac5e50b49eaa"
      },
      "execution_count": 174,
      "outputs": [
        {
          "output_type": "execute_result",
          "data": {
            "text/plain": [
              "dtype('float64')"
            ]
          },
          "metadata": {},
          "execution_count": 174
        }
      ]
    },
    {
      "cell_type": "code",
      "source": [
        "d = np.zeros((2,3))"
      ],
      "metadata": {
        "id": "zVM1V-lHdIHE"
      },
      "execution_count": 176,
      "outputs": []
    },
    {
      "cell_type": "code",
      "source": [
        "d"
      ],
      "metadata": {
        "colab": {
          "base_uri": "https://localhost:8080/"
        },
        "id": "HYg2sUcCdbju",
        "outputId": "bf380515-9f06-460d-b9a4-709b3eb114d6"
      },
      "execution_count": 177,
      "outputs": [
        {
          "output_type": "execute_result",
          "data": {
            "text/plain": [
              "array([[0., 0., 0.],\n",
              "       [0., 0., 0.]])"
            ]
          },
          "metadata": {},
          "execution_count": 177
        }
      ]
    },
    {
      "cell_type": "code",
      "source": [
        "c = np.ones((4,4))"
      ],
      "metadata": {
        "id": "u-vzvQcbdejp"
      },
      "execution_count": 178,
      "outputs": []
    },
    {
      "cell_type": "code",
      "source": [
        "c"
      ],
      "metadata": {
        "colab": {
          "base_uri": "https://localhost:8080/"
        },
        "id": "QCOeOcAmdiM8",
        "outputId": "d4daedc0-e5a9-489b-dbdb-bbe9a9d8cd75"
      },
      "execution_count": 179,
      "outputs": [
        {
          "output_type": "execute_result",
          "data": {
            "text/plain": [
              "array([[1., 1., 1., 1.],\n",
              "       [1., 1., 1., 1.],\n",
              "       [1., 1., 1., 1.],\n",
              "       [1., 1., 1., 1.]])"
            ]
          },
          "metadata": {},
          "execution_count": 179
        }
      ]
    },
    {
      "cell_type": "code",
      "source": [
        "np.random.rand(3,3)"
      ],
      "metadata": {
        "colab": {
          "base_uri": "https://localhost:8080/"
        },
        "id": "d6XLl0BpdjMG",
        "outputId": "af0eb19a-983a-4e8d-f78d-c6ac78a131b2"
      },
      "execution_count": 185,
      "outputs": [
        {
          "output_type": "execute_result",
          "data": {
            "text/plain": [
              "array([[0.81, 0.55, 0.14],\n",
              "       [0.98, 0.6 , 0.82],\n",
              "       [0.75, 0.65, 0.49]])"
            ]
          },
          "metadata": {},
          "execution_count": 185
        }
      ]
    },
    {
      "cell_type": "code",
      "source": [
        "f = np.arange(10, 100, 2)"
      ],
      "metadata": {
        "id": "vzrTGUZfdqZ-"
      },
      "execution_count": 186,
      "outputs": []
    },
    {
      "cell_type": "code",
      "source": [
        "f"
      ],
      "metadata": {
        "colab": {
          "base_uri": "https://localhost:8080/"
        },
        "id": "akbzuhded7zq",
        "outputId": "b47c6e8d-8be3-4f09-d3ec-47b9ceecae14"
      },
      "execution_count": 187,
      "outputs": [
        {
          "output_type": "execute_result",
          "data": {
            "text/plain": [
              "array([10, 12, 14, 16, 18, 20, 22, 24, 26, 28, 30, 32, 34, 36, 38, 40, 42,\n",
              "       44, 46, 48, 50, 52, 54, 56, 58, 60, 62, 64, 66, 68, 70, 72, 74, 76,\n",
              "       78, 80, 82, 84, 86, 88, 90, 92, 94, 96, 98])"
            ]
          },
          "metadata": {},
          "execution_count": 187
        }
      ]
    },
    {
      "cell_type": "code",
      "source": [
        "np.linspace(0, 2, 15  )"
      ],
      "metadata": {
        "colab": {
          "base_uri": "https://localhost:8080/"
        },
        "id": "xGg4SNoId8ak",
        "outputId": "7a99325b-2f80-4eb0-9fc6-ff354d3a501a"
      },
      "execution_count": 189,
      "outputs": [
        {
          "output_type": "execute_result",
          "data": {
            "text/plain": [
              "array([0.  , 0.14, 0.29, 0.43, 0.57, 0.71, 0.86, 1.  , 1.14, 1.29, 1.43,\n",
              "       1.57, 1.71, 1.86, 2.  ])"
            ]
          },
          "metadata": {},
          "execution_count": 189
        }
      ]
    },
    {
      "cell_type": "markdown",
      "source": [
        "<b>Array Operations</b>"
      ],
      "metadata": {
        "id": "Cw9smGkzeI-U"
      }
    },
    {
      "cell_type": "code",
      "source": [
        "a = np.array([10,20,30,40])\n",
        "b = np.array([1,2,3,4])\n",
        "\n",
        "c = a - b\n",
        "print(c)\n",
        "print('\\n')\n",
        "d = a * b\n",
        "print(d)"
      ],
      "metadata": {
        "colab": {
          "base_uri": "https://localhost:8080/"
        },
        "id": "e-GoH9teeGrZ",
        "outputId": "7a1ac357-cdf7-4d59-bbab-b28202de2dde"
      },
      "execution_count": 194,
      "outputs": [
        {
          "output_type": "stream",
          "name": "stdout",
          "text": [
            "[ 9 18 27 36]\n",
            "\n",
            "\n",
            "[ 10  40  90 160]\n"
          ]
        }
      ]
    },
    {
      "cell_type": "code",
      "source": [
        "farenheit = np.array([0, -10, -5, -15, 0])\n",
        "#  Formula is ((*F - 32) * 5/9 = *C)\n",
        "celcius = ((farenheit - 31) * (5/9))"
      ],
      "metadata": {
        "id": "14ILyD1Heb6J"
      },
      "execution_count": 195,
      "outputs": []
    },
    {
      "cell_type": "code",
      "source": [
        "celcius"
      ],
      "metadata": {
        "colab": {
          "base_uri": "https://localhost:8080/"
        },
        "id": "-B6cgVBQfJOx",
        "outputId": "6d88409d-b9cc-48c6-be20-08f88f44cdc0"
      },
      "execution_count": 196,
      "outputs": [
        {
          "output_type": "execute_result",
          "data": {
            "text/plain": [
              "array([-17.22, -22.78, -20.  , -25.56, -17.22])"
            ]
          },
          "metadata": {},
          "execution_count": 196
        }
      ]
    },
    {
      "cell_type": "code",
      "source": [
        "celcius > -20"
      ],
      "metadata": {
        "colab": {
          "base_uri": "https://localhost:8080/"
        },
        "id": "vwvI32o6fKyl",
        "outputId": "1a683edb-617c-4de6-f90f-ec24ef0c7492"
      },
      "execution_count": 198,
      "outputs": [
        {
          "output_type": "execute_result",
          "data": {
            "text/plain": [
              "array([ True, False, False, False,  True])"
            ]
          },
          "metadata": {},
          "execution_count": 198
        }
      ]
    },
    {
      "cell_type": "code",
      "source": [
        "celcius % 2 == 0"
      ],
      "metadata": {
        "colab": {
          "base_uri": "https://localhost:8080/"
        },
        "id": "wWvKLQ-5fR5D",
        "outputId": "28b8544f-b0ad-4fd5-a012-98b818009427"
      },
      "execution_count": 199,
      "outputs": [
        {
          "output_type": "execute_result",
          "data": {
            "text/plain": [
              "array([False, False,  True, False, False])"
            ]
          },
          "metadata": {},
          "execution_count": 199
        }
      ]
    },
    {
      "cell_type": "code",
      "source": [
        "A = np.array([[1,1], [0,1]])\n",
        "B = np.array([[2,0], [3,4]])"
      ],
      "metadata": {
        "id": "p3Psck4ffbVF"
      },
      "execution_count": 202,
      "outputs": []
    },
    {
      "cell_type": "code",
      "source": [
        "print(A * B)"
      ],
      "metadata": {
        "colab": {
          "base_uri": "https://localhost:8080/"
        },
        "id": "kAQsuc0mfsNf",
        "outputId": "b6314a5a-f64a-4cc6-9683-b93a2902f18f"
      },
      "execution_count": 203,
      "outputs": [
        {
          "output_type": "stream",
          "name": "stdout",
          "text": [
            "[[2 0]\n",
            " [0 4]]\n"
          ]
        }
      ]
    },
    {
      "cell_type": "code",
      "source": [
        "print(A@B)"
      ],
      "metadata": {
        "colab": {
          "base_uri": "https://localhost:8080/"
        },
        "id": "GAZL6kfFfvrl",
        "outputId": "b5b00481-166c-46c2-9358-29ce319afa51"
      },
      "execution_count": 204,
      "outputs": [
        {
          "output_type": "stream",
          "name": "stdout",
          "text": [
            "[[5 4]\n",
            " [3 4]]\n"
          ]
        }
      ]
    },
    {
      "cell_type": "code",
      "source": [
        "print(A.shape)\n",
        "print(B.shape)"
      ],
      "metadata": {
        "colab": {
          "base_uri": "https://localhost:8080/"
        },
        "id": "EF2kzaGnf3_S",
        "outputId": "7c48649f-601d-4ea2-d666-a9d7f6a67f56"
      },
      "execution_count": 205,
      "outputs": [
        {
          "output_type": "stream",
          "name": "stdout",
          "text": [
            "(2, 2)\n",
            "(2, 2)\n"
          ]
        }
      ]
    },
    {
      "cell_type": "code",
      "source": [
        ""
      ],
      "metadata": {
        "id": "WZ1UnCqPgGCn"
      },
      "execution_count": null,
      "outputs": []
    }
  ]
}