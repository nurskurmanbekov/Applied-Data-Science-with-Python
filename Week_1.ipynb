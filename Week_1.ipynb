{
  "nbformat": 4,
  "nbformat_minor": 0,
  "metadata": {
    "colab": {
      "name": "Week_1.ipynb",
      "provenance": [],
      "collapsed_sections": [
        "wSm_LkBXz906",
        "TSVaYpVS34JT",
        "Rs1AAwWgIjzq",
        "zZIogEIBKLu4",
        "NWThhUNIPNtQ"
      ],
      "include_colab_link": true
    },
    "kernelspec": {
      "name": "python3",
      "display_name": "Python 3"
    },
    "language_info": {
      "name": "python"
    }
  },
  "cells": [
    {
      "cell_type": "markdown",
      "metadata": {
        "id": "view-in-github",
        "colab_type": "text"
      },
      "source": [
        "<a href=\"https://colab.research.google.com/github/nurskurmanbekov/Applied-Data-Science-with-Python/blob/main/Week_1.ipynb\" target=\"_parent\"><img src=\"https://colab.research.google.com/assets/colab-badge.svg\" alt=\"Open In Colab\"/></a>"
      ]
    },
    {
      "cell_type": "markdown",
      "source": [
        "<b>Course Outline</b>\n",
        "\n",
        "\n",
        "\n",
        "1.   Prerequest  Python Knowledge \n",
        "2.   The pandas Toolkit \n",
        "3.   Advanced Querying and Manipulation with pandas \n",
        "4.   Basic Statistical  Analysis  with numpy  and scipy,  and project\n",
        "\n",
        "\n",
        "In this Scpecalization also in 1'st course we will use Jupyter Notebook.\n",
        "\n"
      ],
      "metadata": {
        "id": "VRCvtGuNAzhU"
      }
    },
    {
      "cell_type": "markdown",
      "source": [
        "# ***Function***"
      ],
      "metadata": {
        "id": "wSm_LkBXz906"
      }
    },
    {
      "cell_type": "code",
      "execution_count": null,
      "metadata": {
        "colab": {
          "base_uri": "https://localhost:8080/"
        },
        "id": "hOL-QTWjAw_3",
        "outputId": "783939cb-22b9-4b5e-b52e-30aa2d34b72c"
      },
      "outputs": [
        {
          "output_type": "execute_result",
          "data": {
            "text/plain": [
              "3"
            ]
          },
          "metadata": {},
          "execution_count": 1
        }
      ],
      "source": [
        "x = 1 \n",
        "y = 2\n",
        "x + y "
      ]
    },
    {
      "cell_type": "code",
      "source": [
        "x "
      ],
      "metadata": {
        "colab": {
          "base_uri": "https://localhost:8080/"
        },
        "id": "PjynwxY40ob-",
        "outputId": "f0b758d8-d0ed-4238-cf96-7e5de370fac5"
      },
      "execution_count": null,
      "outputs": [
        {
          "output_type": "execute_result",
          "data": {
            "text/plain": [
              "1"
            ]
          },
          "metadata": {},
          "execution_count": 2
        }
      ]
    },
    {
      "cell_type": "code",
      "source": [
        "def add_numbers(x, y):\n",
        "  return x + y\n",
        "\n",
        "add_numbers(1,2)"
      ],
      "metadata": {
        "colab": {
          "base_uri": "https://localhost:8080/"
        },
        "id": "QZDzkSk00v0F",
        "outputId": "bf062a72-2436-4f92-c314-136015e33b7e"
      },
      "execution_count": null,
      "outputs": [
        {
          "output_type": "execute_result",
          "data": {
            "text/plain": [
              "3"
            ]
          },
          "metadata": {},
          "execution_count": 5
        }
      ]
    },
    {
      "cell_type": "code",
      "source": [
        "def add_numbers(x, y, z = None):\n",
        "  if (z == None):\n",
        "    return x + y\n",
        "  else:\n",
        "    return x + y + z\n",
        "print(add_numbers(1,2,4))\n",
        "print(add_numbers(1,2))"
      ],
      "metadata": {
        "colab": {
          "base_uri": "https://localhost:8080/"
        },
        "id": "-Ypvd4du1CBX",
        "outputId": "b20fb442-287b-4a67-9251-2cb9263ddaa9"
      },
      "execution_count": null,
      "outputs": [
        {
          "output_type": "stream",
          "name": "stdout",
          "text": [
            "7\n",
            "3\n"
          ]
        }
      ]
    },
    {
      "cell_type": "code",
      "source": [
        "def add_numbers(x, y, z = None, flag = False):\n",
        "  if (flag):\n",
        "    print('Flag is True!')\n",
        "  if (z == None):\n",
        "    return x + y\n",
        "  else:\n",
        "    return x + y + z\n",
        "print(add_numbers(1,2, flag = True))\n",
        "print(add_numbers(1,2,3, flag = False)) \n",
        "print(add_numbers(1,2, flag = False))"
      ],
      "metadata": {
        "colab": {
          "base_uri": "https://localhost:8080/"
        },
        "id": "UlGWZcmm1w7y",
        "outputId": "4a92578e-d800-4929-b2ba-6fa86f7154db"
      },
      "execution_count": null,
      "outputs": [
        {
          "output_type": "stream",
          "name": "stdout",
          "text": [
            "Flag is True!\n",
            "3\n",
            "6\n",
            "3\n"
          ]
        }
      ]
    },
    {
      "cell_type": "markdown",
      "source": [
        "This function should add the two values if the value of the \"kind\" parameter is \"add\" or is not passed in, otherwise it should subtract the second value from the first. \n",
        "\n",
        "Can you fix the function so that it works?"
      ],
      "metadata": {
        "id": "T3D4ou8k24sz"
      }
    },
    {
      "cell_type": "markdown",
      "source": [
        "\n",
        "\n",
        "```\n",
        " def do_math(?, ?, ?):\n",
        "  if (kind=='add'):\n",
        "    return a+b\n",
        "  else:\n",
        "    return a-b\n",
        "\n",
        "do_math(1, 2)\n",
        "```\n",
        "\n"
      ],
      "metadata": {
        "id": "zcZtuRQH28cK"
      }
    },
    {
      "cell_type": "code",
      "source": [
        "def do_math(a, b, kind='add'):\n",
        "    if (kind=='add'):\n",
        "        return a+b\n",
        "    else:\n",
        "        return a-b\n",
        "\n",
        "do_math(1, 2)"
      ],
      "metadata": {
        "colab": {
          "base_uri": "https://localhost:8080/"
        },
        "id": "3HWfFZP63pE6",
        "outputId": "0885616a-37f4-4573-a066-a8bd08cc6186"
      },
      "execution_count": null,
      "outputs": [
        {
          "output_type": "execute_result",
          "data": {
            "text/plain": [
              "3"
            ]
          },
          "metadata": {},
          "execution_count": 16
        }
      ]
    },
    {
      "cell_type": "markdown",
      "source": [
        "# ***Python Types and Sequences***\n"
      ],
      "metadata": {
        "id": "TSVaYpVS34JT"
      }
    },
    {
      "cell_type": "code",
      "source": [
        "type('This is string')"
      ],
      "metadata": {
        "colab": {
          "base_uri": "https://localhost:8080/"
        },
        "id": "_hxf_X1Y3ygE",
        "outputId": "89b312cb-2f8e-4bad-9c29-c10c3399d0dd"
      },
      "execution_count": null,
      "outputs": [
        {
          "output_type": "execute_result",
          "data": {
            "text/plain": [
              "str"
            ]
          },
          "metadata": {},
          "execution_count": 18
        }
      ]
    },
    {
      "cell_type": "code",
      "source": [
        "type(None)"
      ],
      "metadata": {
        "colab": {
          "base_uri": "https://localhost:8080/"
        },
        "id": "NLkSDrv44Q_q",
        "outputId": "5acd3741-a024-4c26-ce03-c750f1eb8618"
      },
      "execution_count": null,
      "outputs": [
        {
          "output_type": "execute_result",
          "data": {
            "text/plain": [
              "NoneType"
            ]
          },
          "metadata": {},
          "execution_count": 19
        }
      ]
    },
    {
      "cell_type": "code",
      "source": [
        "type(1.0)"
      ],
      "metadata": {
        "colab": {
          "base_uri": "https://localhost:8080/"
        },
        "id": "xr3VB9bj4X8q",
        "outputId": "8e17b920-4233-4882-c4d2-db33d64f4ba1"
      },
      "execution_count": null,
      "outputs": [
        {
          "output_type": "execute_result",
          "data": {
            "text/plain": [
              "float"
            ]
          },
          "metadata": {},
          "execution_count": 21
        }
      ]
    },
    {
      "cell_type": "code",
      "source": [
        "type(add_numbers)"
      ],
      "metadata": {
        "colab": {
          "base_uri": "https://localhost:8080/"
        },
        "id": "kvo3V5Zx4ZPQ",
        "outputId": "43a637e1-de67-4b39-85e7-f88016bf2147"
      },
      "execution_count": null,
      "outputs": [
        {
          "output_type": "execute_result",
          "data": {
            "text/plain": [
              "function"
            ]
          },
          "metadata": {},
          "execution_count": 22
        }
      ]
    },
    {
      "cell_type": "code",
      "source": [
        "x = (1, 'a', 2, 'b')\n",
        "type(x)"
      ],
      "metadata": {
        "colab": {
          "base_uri": "https://localhost:8080/"
        },
        "id": "dmKettqX4bOs",
        "outputId": "42a8e1e6-72a4-4238-ab4f-e5fcfbc831b5"
      },
      "execution_count": null,
      "outputs": [
        {
          "output_type": "execute_result",
          "data": {
            "text/plain": [
              "tuple"
            ]
          },
          "metadata": {},
          "execution_count": 23
        }
      ]
    },
    {
      "cell_type": "code",
      "source": [
        "x = [1, 'a', 2, 'b']\n",
        "type(x)"
      ],
      "metadata": {
        "colab": {
          "base_uri": "https://localhost:8080/"
        },
        "id": "jOWfNL_V4jBU",
        "outputId": "a943aad9-ef99-49a5-e18b-33c14c4e4ecb"
      },
      "execution_count": null,
      "outputs": [
        {
          "output_type": "execute_result",
          "data": {
            "text/plain": [
              "list"
            ]
          },
          "metadata": {},
          "execution_count": 25
        }
      ]
    },
    {
      "cell_type": "code",
      "source": [
        "x.append(3.3)\n",
        "print(x)"
      ],
      "metadata": {
        "colab": {
          "base_uri": "https://localhost:8080/"
        },
        "id": "9vgz_J-R4xWW",
        "outputId": "430b2e6c-f318-4779-ec66-1a834d576820"
      },
      "execution_count": null,
      "outputs": [
        {
          "output_type": "stream",
          "name": "stdout",
          "text": [
            "[1, 'a', 2, 'b', 3.3]\n"
          ]
        }
      ]
    },
    {
      "cell_type": "code",
      "source": [
        "for item  in x:\n",
        "  print(item)"
      ],
      "metadata": {
        "colab": {
          "base_uri": "https://localhost:8080/"
        },
        "id": "Qr2TBkt943fJ",
        "outputId": "ee956e97-fb79-47e0-8dcd-d235f958f57f"
      },
      "execution_count": null,
      "outputs": [
        {
          "output_type": "stream",
          "name": "stdout",
          "text": [
            "1\n",
            "a\n",
            "2\n",
            "b\n",
            "3.3\n"
          ]
        }
      ]
    },
    {
      "cell_type": "code",
      "source": [
        "i = 0\n",
        "while(i != len(x) ):\n",
        "  print(x[i])\n",
        "  i = i + 1"
      ],
      "metadata": {
        "colab": {
          "base_uri": "https://localhost:8080/"
        },
        "id": "BOiZ3Cv_5Bbu",
        "outputId": "ba2409d9-6597-43d3-d081-7c9411d81de5"
      },
      "execution_count": null,
      "outputs": [
        {
          "output_type": "stream",
          "name": "stdout",
          "text": [
            "1\n",
            "a\n",
            "2\n",
            "b\n",
            "3.3\n"
          ]
        }
      ]
    },
    {
      "cell_type": "code",
      "source": [
        "[1, 2] + [3, 4]"
      ],
      "metadata": {
        "colab": {
          "base_uri": "https://localhost:8080/"
        },
        "id": "uIS0JIoU5MJO",
        "outputId": "8130faae-96b9-47b5-ed86-c2eeb1689da2"
      },
      "execution_count": null,
      "outputs": [
        {
          "output_type": "execute_result",
          "data": {
            "text/plain": [
              "[1, 2, 3, 4]"
            ]
          },
          "metadata": {},
          "execution_count": 31
        }
      ]
    },
    {
      "cell_type": "code",
      "source": [
        "[1] + [3]"
      ],
      "metadata": {
        "colab": {
          "base_uri": "https://localhost:8080/"
        },
        "id": "ATBqJlOm5ZwX",
        "outputId": "38d39d52-2b9b-4fe5-8fad-b7ce567fd6a7"
      },
      "execution_count": null,
      "outputs": [
        {
          "output_type": "execute_result",
          "data": {
            "text/plain": [
              "[1, 3]"
            ]
          },
          "metadata": {},
          "execution_count": 32
        }
      ]
    },
    {
      "cell_type": "code",
      "source": [
        "[1] * 3"
      ],
      "metadata": {
        "colab": {
          "base_uri": "https://localhost:8080/"
        },
        "id": "t6tNU9X45cPz",
        "outputId": "17166ea8-8dcd-44f0-c59e-c4d5e51a8a98"
      },
      "execution_count": null,
      "outputs": [
        {
          "output_type": "execute_result",
          "data": {
            "text/plain": [
              "[1, 1, 1]"
            ]
          },
          "metadata": {},
          "execution_count": 33
        }
      ]
    },
    {
      "cell_type": "code",
      "source": [
        "1 in [1,2,3]"
      ],
      "metadata": {
        "colab": {
          "base_uri": "https://localhost:8080/"
        },
        "id": "Fg4eXQg-5d5Q",
        "outputId": "d4aff268-99d1-4e09-962e-09aa0563764c"
      },
      "execution_count": null,
      "outputs": [
        {
          "output_type": "execute_result",
          "data": {
            "text/plain": [
              "True"
            ]
          },
          "metadata": {},
          "execution_count": 34
        }
      ]
    },
    {
      "cell_type": "code",
      "source": [
        "x = 'This is a string'\n",
        "print(type(x))"
      ],
      "metadata": {
        "colab": {
          "base_uri": "https://localhost:8080/"
        },
        "id": "cgCjuJv25hYL",
        "outputId": "6fc27de1-6d73-405c-87e8-21a7739f814c"
      },
      "execution_count": null,
      "outputs": [
        {
          "output_type": "stream",
          "name": "stdout",
          "text": [
            "<class 'str'>\n"
          ]
        }
      ]
    },
    {
      "cell_type": "code",
      "source": [
        "print(x[0])\n",
        "print(x[0:1])\n",
        "print(x[0:2])\n",
        "print(x[0:3])\n",
        "print(x[0:4])\n",
        "print(x[0:5])\n",
        "print(x[0:6])\n",
        "print(x[0:7])\n",
        "print(x[0:8])"
      ],
      "metadata": {
        "colab": {
          "base_uri": "https://localhost:8080/"
        },
        "id": "SK1FAfkI57ZH",
        "outputId": "6f358fb2-3611-4e9c-91d1-c2e239c2c9f2"
      },
      "execution_count": null,
      "outputs": [
        {
          "output_type": "stream",
          "name": "stdout",
          "text": [
            "T\n",
            "T\n",
            "Th\n",
            "Thi\n",
            "This\n",
            "This \n",
            "This i\n",
            "This is\n",
            "This is \n"
          ]
        }
      ]
    },
    {
      "cell_type": "code",
      "source": [
        "print(x[0:1])"
      ],
      "metadata": {
        "colab": {
          "base_uri": "https://localhost:8080/"
        },
        "id": "AEEuCTn29bnw",
        "outputId": "efc0c9b9-6ef6-415c-ac4f-c0a229c86a2e"
      },
      "execution_count": null,
      "outputs": [
        {
          "output_type": "stream",
          "name": "stdout",
          "text": [
            "\n"
          ]
        }
      ]
    },
    {
      "cell_type": "code",
      "source": [
        "i = 0\n",
        "while (i != len(x)+1):\n",
        "  print(x[0:i])\n",
        "  i= i+1"
      ],
      "metadata": {
        "colab": {
          "base_uri": "https://localhost:8080/"
        },
        "id": "JNay9Al-88N6",
        "outputId": "81109ec0-660b-4955-e22e-e18caeadd5c7"
      },
      "execution_count": null,
      "outputs": [
        {
          "output_type": "stream",
          "name": "stdout",
          "text": [
            "\n",
            "T\n",
            "Th\n",
            "Thi\n",
            "This\n",
            "This \n",
            "This i\n",
            "This is\n",
            "This is \n",
            "This is a\n",
            "This is a \n",
            "This is a s\n",
            "This is a st\n",
            "This is a str\n",
            "This is a stri\n",
            "This is a strin\n",
            "This is a string\n"
          ]
        }
      ]
    },
    {
      "cell_type": "code",
      "source": [
        "x[-1]"
      ],
      "metadata": {
        "colab": {
          "base_uri": "https://localhost:8080/",
          "height": 35
        },
        "id": "AEdaa5iP9otZ",
        "outputId": "f7a102fd-8048-42aa-9b92-ba763ea84b8b"
      },
      "execution_count": null,
      "outputs": [
        {
          "output_type": "execute_result",
          "data": {
            "text/plain": [
              "'g'"
            ],
            "application/vnd.google.colaboratory.intrinsic+json": {
              "type": "string"
            }
          },
          "metadata": {},
          "execution_count": 43
        }
      ]
    },
    {
      "cell_type": "code",
      "source": [
        "x[-4:-2]"
      ],
      "metadata": {
        "colab": {
          "base_uri": "https://localhost:8080/",
          "height": 35
        },
        "id": "L3ay4-bi9uf9",
        "outputId": "ff6cc04c-88eb-4ea9-e51b-696aa465a4a1"
      },
      "execution_count": null,
      "outputs": [
        {
          "output_type": "execute_result",
          "data": {
            "text/plain": [
              "'ri'"
            ],
            "application/vnd.google.colaboratory.intrinsic+json": {
              "type": "string"
            }
          },
          "metadata": {},
          "execution_count": 45
        }
      ]
    },
    {
      "cell_type": "code",
      "source": [
        "x[:3]"
      ],
      "metadata": {
        "colab": {
          "base_uri": "https://localhost:8080/",
          "height": 35
        },
        "id": "3O2HgKYr9vqX",
        "outputId": "3cac0bcb-8490-4bfa-ada7-058479eb02fc"
      },
      "execution_count": null,
      "outputs": [
        {
          "output_type": "execute_result",
          "data": {
            "text/plain": [
              "'Thi'"
            ],
            "application/vnd.google.colaboratory.intrinsic+json": {
              "type": "string"
            }
          },
          "metadata": {},
          "execution_count": 46
        }
      ]
    },
    {
      "cell_type": "code",
      "source": [
        "x[3:]"
      ],
      "metadata": {
        "colab": {
          "base_uri": "https://localhost:8080/",
          "height": 35
        },
        "id": "G1Gm3ncH91kj",
        "outputId": "bf13c6eb-780f-4923-de11-996536888c04"
      },
      "execution_count": null,
      "outputs": [
        {
          "output_type": "execute_result",
          "data": {
            "text/plain": [
              "'s is a string'"
            ],
            "application/vnd.google.colaboratory.intrinsic+json": {
              "type": "string"
            }
          },
          "metadata": {},
          "execution_count": 47
        }
      ]
    },
    {
      "cell_type": "markdown",
      "source": [
        "What would be an appropriate slice to get the name \"Christopher\" from the string \"Dr. Christopher Brooks\"?"
      ],
      "metadata": {
        "id": "UC64-zgS98fE"
      }
    },
    {
      "cell_type": "markdown",
      "source": [
        "\n",
        "\n",
        "```\n",
        "x = 'Dr. Christopher Brooks'\n",
        "\n",
        "print(x[???])\n",
        "```\n",
        "\n"
      ],
      "metadata": {
        "id": "KBWe2VLr-Cd4"
      }
    },
    {
      "cell_type": "code",
      "source": [
        "x = 'Dr. Christopher Brooks'\n",
        "\n",
        "print(x[4:15])"
      ],
      "metadata": {
        "colab": {
          "base_uri": "https://localhost:8080/"
        },
        "id": "X5YCUyTi93Nj",
        "outputId": "0f82bcfa-4936-4ab6-dc2e-3514fb2c4d82"
      },
      "execution_count": null,
      "outputs": [
        {
          "output_type": "stream",
          "name": "stdout",
          "text": [
            "Christopher\n"
          ]
        }
      ]
    },
    {
      "cell_type": "code",
      "source": [
        "firstname = 'Chistopher'\n",
        "lastname = 'Brooks'\n",
        "print(firstname + ' ' + lastname)\n",
        "print(f\"{firstname} {lastname}\")"
      ],
      "metadata": {
        "colab": {
          "base_uri": "https://localhost:8080/"
        },
        "id": "epr0-h4v-X4t",
        "outputId": "ce0088c5-f9e2-48cb-f159-8147779d7226"
      },
      "execution_count": null,
      "outputs": [
        {
          "output_type": "stream",
          "name": "stdout",
          "text": [
            "Chistopher Brooks\n",
            "Chistopher Brooks\n"
          ]
        }
      ]
    },
    {
      "cell_type": "code",
      "source": [
        "print(firstname * 3)\n",
        "print('Chris' in firstname)"
      ],
      "metadata": {
        "colab": {
          "base_uri": "https://localhost:8080/"
        },
        "id": "LNMs7Hz_Bo29",
        "outputId": "49810078-e911-40f9-c260-ecb84d4bcfff"
      },
      "execution_count": null,
      "outputs": [
        {
          "output_type": "stream",
          "name": "stdout",
          "text": [
            "ChistopherChistopherChistopher\n",
            "False\n"
          ]
        }
      ]
    },
    {
      "cell_type": "code",
      "source": [
        "firstname  = 'Chirstopher Arthur Hansen Brooks'.split(' ')[0]\n",
        "firstname"
      ],
      "metadata": {
        "id": "Qf2ZU-qeB8bM"
      },
      "execution_count": null,
      "outputs": []
    },
    {
      "cell_type": "code",
      "source": [
        "lastname  = 'Chirstopher Arthur Hansen Brooks'.split(' ')[3]\n",
        "lastname"
      ],
      "metadata": {
        "colab": {
          "base_uri": "https://localhost:8080/",
          "height": 35
        },
        "id": "M-XMMKOeCII8",
        "outputId": "71bb684a-3691-4086-d387-890822e1baae"
      },
      "execution_count": null,
      "outputs": [
        {
          "output_type": "execute_result",
          "data": {
            "text/plain": [
              "'Brooks'"
            ],
            "application/vnd.google.colaboratory.intrinsic+json": {
              "type": "string"
            }
          },
          "metadata": {},
          "execution_count": 59
        }
      ]
    },
    {
      "cell_type": "code",
      "source": [
        "x = {'Christopher Brooks' : 'brooksch@umich.edu', 'Bill Gates' : 'billg@microsoft.com'}\n",
        "x['Christopher Brooks']"
      ],
      "metadata": {
        "colab": {
          "base_uri": "https://localhost:8080/",
          "height": 35
        },
        "id": "R1obVcmoCSec",
        "outputId": "beaf5276-eb8b-447f-b948-61e143b00e39"
      },
      "execution_count": null,
      "outputs": [
        {
          "output_type": "execute_result",
          "data": {
            "text/plain": [
              "'brooksch@umich.edu'"
            ],
            "application/vnd.google.colaboratory.intrinsic+json": {
              "type": "string"
            }
          },
          "metadata": {},
          "execution_count": 60
        }
      ]
    },
    {
      "cell_type": "code",
      "source": [
        "x['Kevyn  Collins-Thompson'] = None\n",
        "x['Kevyn  Collins-Thompson'] "
      ],
      "metadata": {
        "id": "_bL0Xnu3C1vK"
      },
      "execution_count": null,
      "outputs": []
    },
    {
      "cell_type": "code",
      "source": [
        "for name in x:\n",
        "  print(x[name])"
      ],
      "metadata": {
        "colab": {
          "base_uri": "https://localhost:8080/"
        },
        "id": "48mn-BcPDCqo",
        "outputId": "45f38477-4d3b-4287-b772-b3930c4003f0"
      },
      "execution_count": null,
      "outputs": [
        {
          "output_type": "stream",
          "name": "stdout",
          "text": [
            "brooksch@umich.edu\n",
            "billg@microsoft.com\n",
            "None\n"
          ]
        }
      ]
    },
    {
      "cell_type": "code",
      "source": [
        "for email in x.values():\n",
        "  print(email)"
      ],
      "metadata": {
        "colab": {
          "base_uri": "https://localhost:8080/"
        },
        "id": "ujyDdQl1DImB",
        "outputId": "db212145-38d1-4d60-a3da-38a6e8585df8"
      },
      "execution_count": null,
      "outputs": [
        {
          "output_type": "stream",
          "name": "stdout",
          "text": [
            "brooksch@umich.edu\n",
            "billg@microsoft.com\n",
            "None\n"
          ]
        }
      ]
    },
    {
      "cell_type": "code",
      "source": [
        "for name, email in x.items():\n",
        "  print(name)\n",
        "  print(email)"
      ],
      "metadata": {
        "colab": {
          "base_uri": "https://localhost:8080/"
        },
        "id": "yA6u0AKqDPtr",
        "outputId": "b9fd7511-c071-4a5f-df94-aae30b03ea6b"
      },
      "execution_count": null,
      "outputs": [
        {
          "output_type": "stream",
          "name": "stdout",
          "text": [
            "Christopher Brooks\n",
            "brooksch@umich.edu\n",
            "Bill Gates\n",
            "billg@microsoft.com\n",
            "Kevyn  Collins-Thompson\n",
            "None\n"
          ]
        }
      ]
    },
    {
      "cell_type": "code",
      "source": [
        "for name, email in x.items():\n",
        "  print(f'{name} {email}\\n')\n"
      ],
      "metadata": {
        "colab": {
          "base_uri": "https://localhost:8080/"
        },
        "id": "7DwrlMDoDd9s",
        "outputId": "d998da9d-6b3c-4648-af18-7a3c1ca188d5"
      },
      "execution_count": null,
      "outputs": [
        {
          "output_type": "stream",
          "name": "stdout",
          "text": [
            "Christopher Brooks brooksch@umich.edu\n",
            "\n",
            "Bill Gates billg@microsoft.com\n",
            "\n",
            "Kevyn  Collins-Thompson None\n",
            "\n"
          ]
        }
      ]
    },
    {
      "cell_type": "code",
      "source": [
        "x = ('Christopher', 'Brooks', 'brooksch@umich.edu')\n",
        "fname, lname, email = x"
      ],
      "metadata": {
        "id": "0_zVLoU-DpVW"
      },
      "execution_count": null,
      "outputs": []
    },
    {
      "cell_type": "code",
      "source": [
        "print(f\"{fname} {lname} {email}\")"
      ],
      "metadata": {
        "colab": {
          "base_uri": "https://localhost:8080/"
        },
        "id": "xjxOI94fD1lB",
        "outputId": "6b291c48-b5ef-4f70-d995-8c9848df7f4e"
      },
      "execution_count": null,
      "outputs": [
        {
          "output_type": "stream",
          "name": "stdout",
          "text": [
            "Christopher Brooks brooksch@umich.edu\n"
          ]
        }
      ]
    },
    {
      "cell_type": "markdown",
      "source": [
        "# ***Python More on Strings***\n"
      ],
      "metadata": {
        "id": "Rs1AAwWgIjzq"
      }
    },
    {
      "cell_type": "code",
      "source": [
        "print('Chris' + 2)"
      ],
      "metadata": {
        "id": "etb_xX19D7NF",
        "colab": {
          "base_uri": "https://localhost:8080/",
          "height": 165
        },
        "outputId": "52af6080-eea5-4670-e5c4-78a245525cdf"
      },
      "execution_count": null,
      "outputs": [
        {
          "output_type": "error",
          "ename": "TypeError",
          "evalue": "ignored",
          "traceback": [
            "\u001b[0;31m---------------------------------------------------------------------------\u001b[0m",
            "\u001b[0;31mTypeError\u001b[0m                                 Traceback (most recent call last)",
            "\u001b[0;32m<ipython-input-1-928a1e955b60>\u001b[0m in \u001b[0;36m<module>\u001b[0;34m()\u001b[0m\n\u001b[0;32m----> 1\u001b[0;31m \u001b[0mprint\u001b[0m\u001b[0;34m(\u001b[0m\u001b[0;34m'Chris'\u001b[0m \u001b[0;34m+\u001b[0m \u001b[0;36m2\u001b[0m\u001b[0;34m)\u001b[0m\u001b[0;34m\u001b[0m\u001b[0;34m\u001b[0m\u001b[0m\n\u001b[0m",
            "\u001b[0;31mTypeError\u001b[0m: can only concatenate str (not \"int\") to str"
          ]
        }
      ]
    },
    {
      "cell_type": "code",
      "source": [
        "print('Chris'+ str(2))"
      ],
      "metadata": {
        "colab": {
          "base_uri": "https://localhost:8080/"
        },
        "id": "50plIhsKIxh5",
        "outputId": "a448cb6f-0089-42b4-b23c-4bc7649b7936"
      },
      "execution_count": null,
      "outputs": [
        {
          "output_type": "stream",
          "name": "stdout",
          "text": [
            "Chris2\n"
          ]
        }
      ]
    },
    {
      "cell_type": "code",
      "source": [
        "sales_record = {'price' : 3.24,\n",
        "                 'num_items' : 4,\n",
        "                 'person' : 'Chris'}\n",
        "sales_statement = '{} bought {} item(s) at a price of {} each for a total  of {}'\n",
        "print(sales_statement.format(sales_record['person'],\n",
        "                             sales_record['num_items'],\n",
        "                             sales_record['price'],\n",
        "                             sales_record['num_items'] * sales_record['price']))"
      ],
      "metadata": {
        "colab": {
          "base_uri": "https://localhost:8080/"
        },
        "id": "JrTjE5YkI1GM",
        "outputId": "f9a4d209-ae00-4b8d-c8b4-289956f51161"
      },
      "execution_count": null,
      "outputs": [
        {
          "output_type": "stream",
          "name": "stdout",
          "text": [
            "Chris bought 4 item(s) at a price of 3.24 each for a total  of 12.96\n"
          ]
        }
      ]
    },
    {
      "cell_type": "markdown",
      "source": [
        "## ***Python Demonstration: Reading and Writing CSV files***\n"
      ],
      "metadata": {
        "id": "zZIogEIBKLu4"
      }
    },
    {
      "cell_type": "markdown",
      "source": [
        "<b>Data Files and Summary Statistics</b>"
      ],
      "metadata": {
        "id": "47QtEaYGKS9f"
      }
    },
    {
      "cell_type": "code",
      "source": [
        "#import library\n",
        "import csv\n",
        "%precision 2\n",
        "\n",
        "with open('mpg.csv') as csvfile:\n",
        "  mpg = list(csv.DictReader(csvfile))\n",
        "\n",
        "mpg[:3]"
      ],
      "metadata": {
        "colab": {
          "base_uri": "https://localhost:8080/"
        },
        "id": "G1jf_1rfJ3FC",
        "outputId": "c863887a-1bce-4b30-f65a-a3b2a82db0cc"
      },
      "execution_count": null,
      "outputs": [
        {
          "output_type": "execute_result",
          "data": {
            "text/plain": [
              "[OrderedDict([('', '1'),\n",
              "              ('manufacturer', 'audi'),\n",
              "              ('model', 'a4'),\n",
              "              ('displ', '1.8'),\n",
              "              ('year', '1999'),\n",
              "              ('cyl', '4'),\n",
              "              ('trans', 'auto(l5)'),\n",
              "              ('drv', 'f'),\n",
              "              ('cty', '18'),\n",
              "              ('hwy', '29'),\n",
              "              ('fl', 'p'),\n",
              "              ('class', 'compact')]),\n",
              " OrderedDict([('', '2'),\n",
              "              ('manufacturer', 'audi'),\n",
              "              ('model', 'a4'),\n",
              "              ('displ', '1.8'),\n",
              "              ('year', '1999'),\n",
              "              ('cyl', '4'),\n",
              "              ('trans', 'manual(m5)'),\n",
              "              ('drv', 'f'),\n",
              "              ('cty', '21'),\n",
              "              ('hwy', '29'),\n",
              "              ('fl', 'p'),\n",
              "              ('class', 'compact')]),\n",
              " OrderedDict([('', '3'),\n",
              "              ('manufacturer', 'audi'),\n",
              "              ('model', 'a4'),\n",
              "              ('displ', '2'),\n",
              "              ('year', '2008'),\n",
              "              ('cyl', '4'),\n",
              "              ('trans', 'manual(m6)'),\n",
              "              ('drv', 'f'),\n",
              "              ('cty', '20'),\n",
              "              ('hwy', '31'),\n",
              "              ('fl', 'p'),\n",
              "              ('class', 'compact')])]"
            ]
          },
          "metadata": {},
          "execution_count": 5
        }
      ]
    },
    {
      "cell_type": "code",
      "source": [
        "len(mpg)"
      ],
      "metadata": {
        "colab": {
          "base_uri": "https://localhost:8080/"
        },
        "id": "h_JuqztILVZS",
        "outputId": "446b19c4-fb5d-40d5-fdb0-88d5f5cf0e0f"
      },
      "execution_count": null,
      "outputs": [
        {
          "output_type": "execute_result",
          "data": {
            "text/plain": [
              "234"
            ]
          },
          "metadata": {},
          "execution_count": 6
        }
      ]
    },
    {
      "cell_type": "code",
      "source": [
        "mpg[0].keys()"
      ],
      "metadata": {
        "colab": {
          "base_uri": "https://localhost:8080/"
        },
        "id": "8t-eWz86LZzG",
        "outputId": "a45f7c29-c133-41f3-b545-94e2fdc68fe3"
      },
      "execution_count": null,
      "outputs": [
        {
          "output_type": "execute_result",
          "data": {
            "text/plain": [
              "odict_keys(['', 'manufacturer', 'model', 'displ', 'year', 'cyl', 'trans', 'drv', 'cty', 'hwy', 'fl', 'class'])"
            ]
          },
          "metadata": {},
          "execution_count": 7
        }
      ]
    },
    {
      "cell_type": "code",
      "source": [
        "sum(float(d['cty']) for d in mpg) / len(mpg)"
      ],
      "metadata": {
        "colab": {
          "base_uri": "https://localhost:8080/"
        },
        "id": "982lF_cELpA0",
        "outputId": "69918806-e75d-4945-d04e-cd619931c86f"
      },
      "execution_count": null,
      "outputs": [
        {
          "output_type": "execute_result",
          "data": {
            "text/plain": [
              "16.86"
            ]
          },
          "metadata": {},
          "execution_count": 9
        }
      ]
    },
    {
      "cell_type": "code",
      "source": [
        "sum(float(d['hwy']) for d in mpg)/ len(mpg)"
      ],
      "metadata": {
        "colab": {
          "base_uri": "https://localhost:8080/"
        },
        "id": "JuobG_Z2L7zP",
        "outputId": "3e0f761f-a773-4843-eb8b-ed4e69ff18ef"
      },
      "execution_count": null,
      "outputs": [
        {
          "output_type": "execute_result",
          "data": {
            "text/plain": [
              "23.44"
            ]
          },
          "metadata": {},
          "execution_count": 10
        }
      ]
    },
    {
      "cell_type": "code",
      "source": [
        "cyllinders = set(d['cyl'] for d in mpg)\n",
        "cyllinders"
      ],
      "metadata": {
        "colab": {
          "base_uri": "https://localhost:8080/"
        },
        "id": "NTiVcwYFMDjb",
        "outputId": "40afc3a6-8d5d-4576-e19a-51ec5e65bdbc"
      },
      "execution_count": null,
      "outputs": [
        {
          "output_type": "execute_result",
          "data": {
            "text/plain": [
              "{'4', '5', '6', '8'}"
            ]
          },
          "metadata": {},
          "execution_count": 12
        }
      ]
    },
    {
      "cell_type": "code",
      "source": [
        "CtyMpgByCyl = []\n",
        "for c in cyllinders:\n",
        "  summpg = 0\n",
        "  cyltypecount = 0\n",
        "  for d in mpg:\n",
        "    if d['cyl'] == c:\n",
        "      summpg += float(d['cty'])\n",
        "      cyltypecount += 1\n",
        "  CtyMpgByCyl.append((c,summpg / cyltypecount))\n",
        "\n",
        "CtyMpgByCyl.sort(key=lambda x: x[0])\n",
        "CtyMpgByCyl"
      ],
      "metadata": {
        "colab": {
          "base_uri": "https://localhost:8080/"
        },
        "id": "PMU8a0iKMQL5",
        "outputId": "c2bbde07-a3e8-4c35-d0da-b60b4b3fb065"
      },
      "execution_count": null,
      "outputs": [
        {
          "output_type": "execute_result",
          "data": {
            "text/plain": [
              "[('4', 21.01), ('5', 20.50), ('6', 16.22), ('8', 12.57)]"
            ]
          },
          "metadata": {},
          "execution_count": 15
        }
      ]
    },
    {
      "cell_type": "code",
      "source": [
        "vehicleclass = set(d['class'] for d in mpg)\n",
        "vehicleclass"
      ],
      "metadata": {
        "colab": {
          "base_uri": "https://localhost:8080/"
        },
        "id": "vxlbotmPOe7U",
        "outputId": "298b1b00-472d-448f-e1bf-cd5842af90bd"
      },
      "execution_count": null,
      "outputs": [
        {
          "output_type": "execute_result",
          "data": {
            "text/plain": [
              "{'2seater', 'compact', 'midsize', 'minivan', 'pickup', 'subcompact', 'suv'}"
            ]
          },
          "metadata": {},
          "execution_count": 16
        }
      ]
    },
    {
      "cell_type": "markdown",
      "source": [
        "# ***Python Dates and Times***\n"
      ],
      "metadata": {
        "id": "NWThhUNIPNtQ"
      }
    },
    {
      "cell_type": "code",
      "source": [
        "import datetime as dt\n",
        "import time as tm"
      ],
      "metadata": {
        "id": "wXcQueLfO7fD"
      },
      "execution_count": null,
      "outputs": []
    },
    {
      "cell_type": "code",
      "source": [
        "tm.time()"
      ],
      "metadata": {
        "colab": {
          "base_uri": "https://localhost:8080/"
        },
        "id": "vjnqIuR-PlOn",
        "outputId": "0a14a666-885e-4401-d03e-13d229c64649"
      },
      "execution_count": null,
      "outputs": [
        {
          "output_type": "execute_result",
          "data": {
            "text/plain": [
              "1655915427.88"
            ]
          },
          "metadata": {},
          "execution_count": 18
        }
      ]
    },
    {
      "cell_type": "code",
      "source": [
        "dtnow = dt.datetime.fromtimestamp(tm.time())\n",
        "dtnow"
      ],
      "metadata": {
        "colab": {
          "base_uri": "https://localhost:8080/"
        },
        "id": "gtnq8UiZPn5t",
        "outputId": "15fe5634-bc87-4e6a-d9f8-996f5ff6ea81"
      },
      "execution_count": null,
      "outputs": [
        {
          "output_type": "execute_result",
          "data": {
            "text/plain": [
              "datetime.datetime(2022, 6, 22, 16, 32, 2, 254004)"
            ]
          },
          "metadata": {},
          "execution_count": 21
        }
      ]
    },
    {
      "cell_type": "code",
      "source": [
        "dtnow.year, dtnow.month, dtnow.day, dtnow.hour, dtnow.minute, dtnow.second"
      ],
      "metadata": {
        "colab": {
          "base_uri": "https://localhost:8080/"
        },
        "id": "R8XZlYQSQANq",
        "outputId": "e2d65e9c-979a-409c-fb3c-22a4083fd970"
      },
      "execution_count": null,
      "outputs": [
        {
          "output_type": "execute_result",
          "data": {
            "text/plain": [
              "(2022, 6, 22, 16, 32, 2)"
            ]
          },
          "metadata": {},
          "execution_count": 23
        }
      ]
    },
    {
      "cell_type": "code",
      "source": [
        "delta = dt.timedelta(days = 100)"
      ],
      "metadata": {
        "id": "fAlOBYSDQOsm"
      },
      "execution_count": null,
      "outputs": []
    },
    {
      "cell_type": "code",
      "source": [
        "today = dt.date.today()"
      ],
      "metadata": {
        "id": "-NTPDrvbQXUd"
      },
      "execution_count": null,
      "outputs": []
    },
    {
      "cell_type": "code",
      "source": [
        "today - delta"
      ],
      "metadata": {
        "colab": {
          "base_uri": "https://localhost:8080/"
        },
        "id": "-KaAqjdPQdPu",
        "outputId": "f9ba8d84-e615-4018-b334-828b3cc7ea70"
      },
      "execution_count": null,
      "outputs": [
        {
          "output_type": "execute_result",
          "data": {
            "text/plain": [
              "datetime.date(2022, 3, 14)"
            ]
          },
          "metadata": {},
          "execution_count": 27
        }
      ]
    },
    {
      "cell_type": "code",
      "source": [
        "today > today-delta"
      ],
      "metadata": {
        "colab": {
          "base_uri": "https://localhost:8080/"
        },
        "id": "XefYG-dWQf0K",
        "outputId": "f09b548a-392c-4c4e-dd51-ef8348c9f74d"
      },
      "execution_count": null,
      "outputs": [
        {
          "output_type": "execute_result",
          "data": {
            "text/plain": [
              "True"
            ]
          },
          "metadata": {},
          "execution_count": 28
        }
      ]
    },
    {
      "cell_type": "markdown",
      "source": [
        "# ***Advanced Python Objects, map()***\n"
      ],
      "metadata": {
        "id": "bJo-Y8qWkDe6"
      }
    },
    {
      "cell_type": "code",
      "source": [
        "class Person:\n",
        "  departament = 'School of Information'\n",
        "\n",
        "  def set_name(self, new_name):\n",
        "    self.name = new_name\n",
        "\n",
        "  def set_location(self, new_location):\n",
        "    self.location = new_location"
      ],
      "metadata": {
        "id": "fBGxOICKQlIx"
      },
      "execution_count": null,
      "outputs": []
    },
    {
      "cell_type": "code",
      "source": [
        ""
      ],
      "metadata": {
        "id": "c7lB-imDkfyb"
      },
      "execution_count": null,
      "outputs": []
    }
  ]
}