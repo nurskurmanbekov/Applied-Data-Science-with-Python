{
  "nbformat": 4,
  "nbformat_minor": 0,
  "metadata": {
    "colab": {
      "name": "Week_2.ipynb",
      "provenance": [],
      "collapsed_sections": [
        "1lRLoHJA7cf1"
      ],
      "include_colab_link": true
    },
    "kernelspec": {
      "name": "python3",
      "display_name": "Python 3"
    },
    "language_info": {
      "name": "python"
    }
  },
  "cells": [
    {
      "cell_type": "markdown",
      "metadata": {
        "id": "view-in-github",
        "colab_type": "text"
      },
      "source": [
        "<a href=\"https://colab.research.google.com/github/nurskurmanbekov/Applied-Data-Science-with-Python/blob/main/Week_2.ipynb\" target=\"_parent\"><img src=\"https://colab.research.google.com/assets/colab-badge.svg\" alt=\"Open In Colab\"/></a>"
      ]
    },
    {
      "cell_type": "markdown",
      "source": [
        "# ***Introduction to Pandas***\n"
      ],
      "metadata": {
        "id": "1lRLoHJA7cf1"
      }
    },
    {
      "cell_type": "markdown",
      "source": [
        "<b>Pandas</b>\n",
        "\n",
        "*    Created in 2006 by Wes McKinney\n",
        "*    Open source  New BSD license \n",
        "*    100 different  contributors    "
      ],
      "metadata": {
        "id": "PHvqbVR_5OV2"
      }
    },
    {
      "cell_type": "markdown",
      "source": [
        "<b>Stack Overflow</b>\n",
        "\n",
        "*    Massive knowledge  forum of python  and pandas  related content \n",
        "*    Free to join and participate in \n",
        "*    Heavily  used by pandas  developers  instead of a mailing list"
      ],
      "metadata": {
        "id": "WK-Nq_kl5mbb"
      }
    },
    {
      "cell_type": "markdown",
      "source": [
        "<b>Plant Python</b>\n",
        "\n",
        "*    Excellent  blog aggregator for  python related new\n",
        "*    Significant  number  of data  sciense  and python  tutorials are posted \n",
        "*    Great  blend  of applied  beginner  and higher  level  python postings"
      ],
      "metadata": {
        "id": "xJcXLSmu6GlE"
      }
    },
    {
      "cell_type": "markdown",
      "source": [
        "<b>Data Skeptic Podcast</b>\n",
        "*    Kyle Polich,  created in 2014\n",
        "*    Covers  data sciense  more generally, including\n",
        "  *   Mini educational  lessons \n",
        "  *   Interviews \n",
        "  *   Trends\n",
        "  *   Shared community  project(Open House)\n",
        "\n"
      ],
      "metadata": {
        "id": "8leVtd7e6ldb"
      }
    },
    {
      "cell_type": "markdown",
      "source": [
        "# ***The Series Data Structure***\n"
      ],
      "metadata": {
        "id": "LNG_vEky7k6N"
      }
    },
    {
      "cell_type": "markdown",
      "source": [
        "In this lecture we're going to explore the pandas Series structure. By the end of this you should be familiar how to store and manipulate single dimensinal indexed in the Series object."
      ],
      "metadata": {
        "id": "R3ayOcEz9FEJ"
      }
    },
    {
      "cell_type": "markdown",
      "source": [
        "The series  is one  of the data structures in pandas. You think of it a cross between a list and a dictionary.\n",
        "\n",
        "The items are all stored in order  and there's labels with wich  you can  retrieve them.\n",
        "\n",
        "An easy way to visualize this is two columns of data. The first is the special index,  a lot like  keys in a dictionary."
      ],
      "metadata": {
        "id": "HIaUWJJb9d8d"
      }
    },
    {
      "cell_type": "code",
      "source": [
        "# Let's import pandas to get  started\n",
        "import pandas as pd"
      ],
      "metadata": {
        "id": "WIpUSkxm9cQm"
      },
      "execution_count": 4,
      "outputs": []
    },
    {
      "cell_type": "code",
      "source": [
        "students = ['Nursultan', 'Bill', 'Warren']"
      ],
      "metadata": {
        "id": "I95DwmJJB88J"
      },
      "execution_count": 14,
      "outputs": []
    },
    {
      "cell_type": "code",
      "source": [
        "pd.Series(students)"
      ],
      "metadata": {
        "colab": {
          "base_uri": "https://localhost:8080/"
        },
        "id": "72VAeOKUCOAU",
        "outputId": "130d9ef6-5905-4dd3-fc70-892f076e4f2e"
      },
      "execution_count": 15,
      "outputs": [
        {
          "output_type": "execute_result",
          "data": {
            "text/plain": [
              "0    Nursultan\n",
              "1         Bill\n",
              "2       Warren\n",
              "dtype: object"
            ]
          },
          "metadata": {},
          "execution_count": 15
        }
      ]
    },
    {
      "cell_type": "code",
      "source": [
        "numbers = [1,2,3]"
      ],
      "metadata": {
        "id": "4vO9-Y_LCS2m"
      },
      "execution_count": 7,
      "outputs": []
    },
    {
      "cell_type": "code",
      "source": [
        "pd.Series(numbers)"
      ],
      "metadata": {
        "colab": {
          "base_uri": "https://localhost:8080/"
        },
        "id": "xKu272jACVwu",
        "outputId": "3345fc75-3da0-439b-f082-07536fbbc028"
      },
      "execution_count": 8,
      "outputs": [
        {
          "output_type": "execute_result",
          "data": {
            "text/plain": [
              "0    1\n",
              "1    2\n",
              "2    3\n",
              "dtype: int64"
            ]
          },
          "metadata": {},
          "execution_count": 8
        }
      ]
    },
    {
      "cell_type": "code",
      "source": [
        "students1 = ['Nursultan','Bill', 'Warren', None]"
      ],
      "metadata": {
        "id": "vvVmEfwnCXc3"
      },
      "execution_count": 16,
      "outputs": []
    },
    {
      "cell_type": "code",
      "source": [
        "pd.Series(students1)"
      ],
      "metadata": {
        "colab": {
          "base_uri": "https://localhost:8080/"
        },
        "id": "3EVkmduLCuUW",
        "outputId": "0a6658bb-048e-4bf5-f6eb-9ef5b9b1688b"
      },
      "execution_count": 17,
      "outputs": [
        {
          "output_type": "execute_result",
          "data": {
            "text/plain": [
              "0    Nursultan\n",
              "1         Bill\n",
              "2       Warren\n",
              "3         None\n",
              "dtype: object"
            ]
          },
          "metadata": {},
          "execution_count": 17
        }
      ]
    },
    {
      "cell_type": "code",
      "source": [
        "numbers1 = [1,2,3,None]"
      ],
      "metadata": {
        "id": "M_cjGWRbCv9U"
      },
      "execution_count": 20,
      "outputs": []
    },
    {
      "cell_type": "code",
      "source": [
        "pd.Series(numbers1)"
      ],
      "metadata": {
        "colab": {
          "base_uri": "https://localhost:8080/"
        },
        "id": "Tw8OjcemC8t4",
        "outputId": "3085339e-996f-42d3-dfb2-775f050b23d1"
      },
      "execution_count": 21,
      "outputs": [
        {
          "output_type": "execute_result",
          "data": {
            "text/plain": [
              "0    1.0\n",
              "1    2.0\n",
              "2    3.0\n",
              "3    NaN\n",
              "dtype: float64"
            ]
          },
          "metadata": {},
          "execution_count": 21
        }
      ]
    },
    {
      "cell_type": "code",
      "source": [
        ""
      ],
      "metadata": {
        "id": "KwvFD2R_C-yd"
      },
      "execution_count": null,
      "outputs": []
    }
  ]
}