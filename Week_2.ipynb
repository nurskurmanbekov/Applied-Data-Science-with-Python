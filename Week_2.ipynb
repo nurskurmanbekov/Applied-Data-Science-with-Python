{
  "nbformat": 4,
  "nbformat_minor": 0,
  "metadata": {
    "colab": {
      "name": "Week_2.ipynb",
      "provenance": [],
      "collapsed_sections": [
        "1lRLoHJA7cf1"
      ],
      "include_colab_link": true
    },
    "kernelspec": {
      "name": "python3",
      "display_name": "Python 3"
    },
    "language_info": {
      "name": "python"
    }
  },
  "cells": [
    {
      "cell_type": "markdown",
      "metadata": {
        "id": "view-in-github",
        "colab_type": "text"
      },
      "source": [
        "<a href=\"https://colab.research.google.com/github/nurskurmanbekov/Applied-Data-Science-with-Python/blob/main/Week_2.ipynb\" target=\"_parent\"><img src=\"https://colab.research.google.com/assets/colab-badge.svg\" alt=\"Open In Colab\"/></a>"
      ]
    },
    {
      "cell_type": "markdown",
      "source": [
        "# ***Introduction to Pandas***\n"
      ],
      "metadata": {
        "id": "1lRLoHJA7cf1"
      }
    },
    {
      "cell_type": "markdown",
      "source": [
        "<b>Pandas</b>\n",
        "\n",
        "*    Created in 2006 by Wes McKinney\n",
        "*    Open source  New BSD license \n",
        "*    100 different  contributors    "
      ],
      "metadata": {
        "id": "PHvqbVR_5OV2"
      }
    },
    {
      "cell_type": "markdown",
      "source": [
        "<b>Stack Overflow</b>\n",
        "\n",
        "*    Massive knowledge  forum of python  and pandas  related content \n",
        "*    Free to join and participate in \n",
        "*    Heavily  used by pandas  developers  instead of a mailing list"
      ],
      "metadata": {
        "id": "WK-Nq_kl5mbb"
      }
    },
    {
      "cell_type": "markdown",
      "source": [
        "<b>Plant Python</b>\n",
        "\n",
        "*    Excellent  blog aggregator for  python related new\n",
        "*    Significant  number  of data  sciense  and python  tutorials are posted \n",
        "*    Great  blend  of applied  beginner  and higher  level  python postings"
      ],
      "metadata": {
        "id": "xJcXLSmu6GlE"
      }
    },
    {
      "cell_type": "markdown",
      "source": [
        "<b>Data Skeptic Podcast</b>\n",
        "*    Kyle Polich,  created in 2014\n",
        "*    Covers  data sciense  more generally, including\n",
        "  *   Mini educational  lessons \n",
        "  *   Interviews \n",
        "  *   Trends\n",
        "  *   Shared community  project(Open House)\n",
        "\n"
      ],
      "metadata": {
        "id": "8leVtd7e6ldb"
      }
    },
    {
      "cell_type": "markdown",
      "source": [
        "# ***The Series Data Structure***\n"
      ],
      "metadata": {
        "id": "LNG_vEky7k6N"
      }
    },
    {
      "cell_type": "markdown",
      "source": [
        "In this lecture we're going to explore the pandas Series structure. By the end of this you should be familiar how to store and manipulate single dimensinal indexed in the Series object."
      ],
      "metadata": {
        "id": "R3ayOcEz9FEJ"
      }
    },
    {
      "cell_type": "markdown",
      "source": [
        "The series  is one  of the data structures in pandas. You think of it a cross between a list and a dictionary.\n",
        "\n",
        "The items are all stored in order  and there's labels with wich  you can  retrieve them.\n",
        "\n",
        "An easy way to visualize this is two columns of data. The first is the special index,  a lot like  keys in a dictionary."
      ],
      "metadata": {
        "id": "HIaUWJJb9d8d"
      }
    },
    {
      "cell_type": "code",
      "source": [
        "# Let's import pandas to get  started\n",
        "import pandas as pd"
      ],
      "metadata": {
        "id": "WIpUSkxm9cQm"
      },
      "execution_count": null,
      "outputs": []
    },
    {
      "cell_type": "code",
      "source": [
        "students = ['Nursultan', 'Bill', 'Warren']"
      ],
      "metadata": {
        "id": "I95DwmJJB88J"
      },
      "execution_count": null,
      "outputs": []
    },
    {
      "cell_type": "code",
      "source": [
        "pd.Series(students)"
      ],
      "metadata": {
        "colab": {
          "base_uri": "https://localhost:8080/"
        },
        "id": "72VAeOKUCOAU",
        "outputId": "130d9ef6-5905-4dd3-fc70-892f076e4f2e"
      },
      "execution_count": null,
      "outputs": [
        {
          "output_type": "execute_result",
          "data": {
            "text/plain": [
              "0    Nursultan\n",
              "1         Bill\n",
              "2       Warren\n",
              "dtype: object"
            ]
          },
          "metadata": {},
          "execution_count": 15
        }
      ]
    },
    {
      "cell_type": "code",
      "source": [
        "numbers = [1,2,3]"
      ],
      "metadata": {
        "id": "4vO9-Y_LCS2m"
      },
      "execution_count": null,
      "outputs": []
    },
    {
      "cell_type": "code",
      "source": [
        "pd.Series(numbers)"
      ],
      "metadata": {
        "colab": {
          "base_uri": "https://localhost:8080/"
        },
        "id": "xKu272jACVwu",
        "outputId": "3345fc75-3da0-439b-f082-07536fbbc028"
      },
      "execution_count": null,
      "outputs": [
        {
          "output_type": "execute_result",
          "data": {
            "text/plain": [
              "0    1\n",
              "1    2\n",
              "2    3\n",
              "dtype: int64"
            ]
          },
          "metadata": {},
          "execution_count": 8
        }
      ]
    },
    {
      "cell_type": "code",
      "source": [
        "students1 = ['Nursultan','Bill', 'Warren', None]"
      ],
      "metadata": {
        "id": "vvVmEfwnCXc3"
      },
      "execution_count": null,
      "outputs": []
    },
    {
      "cell_type": "code",
      "source": [
        "pd.Series(students1)"
      ],
      "metadata": {
        "colab": {
          "base_uri": "https://localhost:8080/"
        },
        "id": "3EVkmduLCuUW",
        "outputId": "0a6658bb-048e-4bf5-f6eb-9ef5b9b1688b"
      },
      "execution_count": null,
      "outputs": [
        {
          "output_type": "execute_result",
          "data": {
            "text/plain": [
              "0    Nursultan\n",
              "1         Bill\n",
              "2       Warren\n",
              "3         None\n",
              "dtype: object"
            ]
          },
          "metadata": {},
          "execution_count": 17
        }
      ]
    },
    {
      "cell_type": "code",
      "source": [
        "numbers1 = [1,2,3,None]"
      ],
      "metadata": {
        "id": "M_cjGWRbCv9U"
      },
      "execution_count": null,
      "outputs": []
    },
    {
      "cell_type": "code",
      "source": [
        "pd.Series(numbers1)"
      ],
      "metadata": {
        "colab": {
          "base_uri": "https://localhost:8080/"
        },
        "id": "Tw8OjcemC8t4",
        "outputId": "3085339e-996f-42d3-dfb2-775f050b23d1"
      },
      "execution_count": null,
      "outputs": [
        {
          "output_type": "execute_result",
          "data": {
            "text/plain": [
              "0    1.0\n",
              "1    2.0\n",
              "2    3.0\n",
              "3    NaN\n",
              "dtype: float64"
            ]
          },
          "metadata": {},
          "execution_count": 21
        }
      ]
    },
    {
      "cell_type": "code",
      "source": [
        "student_scores = {'Nursultan' : 'Physics',\n",
        "                  'Bill' : 'Computer Sciense',\n",
        "                  'Warren' : 'Economics'}"
      ],
      "metadata": {
        "id": "KwvFD2R_C-yd"
      },
      "execution_count": null,
      "outputs": []
    },
    {
      "cell_type": "code",
      "source": [
        "s = pd.Series(student_scores)"
      ],
      "metadata": {
        "id": "_BvgbTZ6KJmX"
      },
      "execution_count": null,
      "outputs": []
    },
    {
      "cell_type": "code",
      "source": [
        "s.index"
      ],
      "metadata": {
        "colab": {
          "base_uri": "https://localhost:8080/"
        },
        "id": "S0G2r_FvKL9E",
        "outputId": "2064fbb4-96ea-4c29-b976-9c5631ed37fa"
      },
      "execution_count": null,
      "outputs": [
        {
          "output_type": "execute_result",
          "data": {
            "text/plain": [
              "Index(['Nursultan', 'Bill', 'Warren'], dtype='object')"
            ]
          },
          "metadata": {},
          "execution_count": 25
        }
      ]
    },
    {
      "cell_type": "code",
      "source": [
        "students2 = [('Nursultan', 'White'), ('Bill', 'Black'), ('Warren', 'Green')]"
      ],
      "metadata": {
        "id": "nk_l5VldKTZX"
      },
      "execution_count": null,
      "outputs": []
    },
    {
      "cell_type": "code",
      "source": [
        "pd.Series(students2)"
      ],
      "metadata": {
        "colab": {
          "base_uri": "https://localhost:8080/"
        },
        "id": "mD-p7NBgKxUQ",
        "outputId": "904dcc6f-145b-4bfa-f2dd-7e4bf2fce1f7"
      },
      "execution_count": null,
      "outputs": [
        {
          "output_type": "execute_result",
          "data": {
            "text/plain": [
              "0    (Nursultan, White)\n",
              "1         (Bill, Black)\n",
              "2       (Warren, Green)\n",
              "dtype: object"
            ]
          },
          "metadata": {},
          "execution_count": 27
        }
      ]
    },
    {
      "cell_type": "code",
      "source": [
        "s = pd.Series(['Physics', 'Computer Science', 'Economics'], index = ['Nursultan', 'Bill', 'Warren'])"
      ],
      "metadata": {
        "id": "FMim2cAVK0oU"
      },
      "execution_count": null,
      "outputs": []
    },
    {
      "cell_type": "code",
      "source": [
        "s"
      ],
      "metadata": {
        "colab": {
          "base_uri": "https://localhost:8080/"
        },
        "id": "jknvGjcjLHeA",
        "outputId": "6fbfa85e-a9bf-478c-8cdf-33c4ed85e535"
      },
      "execution_count": null,
      "outputs": [
        {
          "output_type": "execute_result",
          "data": {
            "text/plain": [
              "Nursultan             Physics\n",
              "Bill         Computer Science\n",
              "Warren              Economics\n",
              "dtype: object"
            ]
          },
          "metadata": {},
          "execution_count": 29
        }
      ]
    },
    {
      "cell_type": "code",
      "source": [
        "student_scores1 = {'Nursultan' : 'Physics',\n",
        "                   'Bill' : 'Computer Sciense',\n",
        "                   'Warren' : 'Economics'}"
      ],
      "metadata": {
        "id": "dH1RctCBLHy1"
      },
      "execution_count": null,
      "outputs": []
    },
    {
      "cell_type": "code",
      "source": [
        "s = pd.Series(student_scores1, index =['Nursultan', 'Bill', 'Warren'])"
      ],
      "metadata": {
        "id": "08QrIW2pLeR4"
      },
      "execution_count": null,
      "outputs": []
    },
    {
      "cell_type": "code",
      "source": [
        "s"
      ],
      "metadata": {
        "colab": {
          "base_uri": "https://localhost:8080/"
        },
        "id": "w_9oMa7oLueM",
        "outputId": "c23cd721-bb9f-489c-db82-12133d90f1a6"
      },
      "execution_count": null,
      "outputs": [
        {
          "output_type": "execute_result",
          "data": {
            "text/plain": [
              "Nursultan             Physics\n",
              "Bill         Computer Sciense\n",
              "Warren              Economics\n",
              "dtype: object"
            ]
          },
          "metadata": {},
          "execution_count": 32
        }
      ]
    },
    {
      "cell_type": "markdown",
      "source": [
        "In the lecture we've explored the pandas Series structure. You've seen  how to  create  a series from  list and dictionaries, how  indicies on data work, and the way  that pandas typecases data including values."
      ],
      "metadata": {
        "id": "fFr5QrvqLysX"
      }
    },
    {
      "cell_type": "markdown",
      "source": [
        "# ***Querying a Series***\n"
      ],
      "metadata": {
        "id": "WU1ofDdkMNwh"
      }
    },
    {
      "cell_type": "code",
      "source": [
        "import pandas as pd "
      ],
      "metadata": {
        "id": "2Ru5WduDMSE9"
      },
      "execution_count": 1,
      "outputs": []
    },
    {
      "cell_type": "code",
      "source": [
        "student_class = {'Nursultan' : 'Physics',\n",
        "                 'Bill' : 'Computer Science',\n",
        "                 'Warren' : 'Economics',\n",
        "                 'Kudaybergen' : 'History, MAth'}"
      ],
      "metadata": {
        "id": "VlhZC5fJQ6ML"
      },
      "execution_count": 6,
      "outputs": []
    },
    {
      "cell_type": "code",
      "source": [
        "s = pd.Series(student_class)"
      ],
      "metadata": {
        "id": "XvyjWNBLRF8E"
      },
      "execution_count": 7,
      "outputs": []
    },
    {
      "cell_type": "code",
      "source": [
        "s"
      ],
      "metadata": {
        "colab": {
          "base_uri": "https://localhost:8080/"
        },
        "id": "pnvJt8y1RKJ9",
        "outputId": "50ec25c0-939e-4335-fa51-a81faf81842d"
      },
      "execution_count": 8,
      "outputs": [
        {
          "output_type": "execute_result",
          "data": {
            "text/plain": [
              "Nursultan               Physics\n",
              "Bill           Computer Science\n",
              "Warren                Economics\n",
              "Kudaybergen       History, MAth\n",
              "dtype: object"
            ]
          },
          "metadata": {},
          "execution_count": 8
        }
      ]
    },
    {
      "cell_type": "code",
      "source": [
        "s.iloc[3]"
      ],
      "metadata": {
        "colab": {
          "base_uri": "https://localhost:8080/",
          "height": 35
        },
        "id": "mcaC95XpRK3b",
        "outputId": "5f361c84-5301-4777-a91a-3137cbfee6f5"
      },
      "execution_count": 9,
      "outputs": [
        {
          "output_type": "execute_result",
          "data": {
            "text/plain": [
              "'History, MAth'"
            ],
            "application/vnd.google.colaboratory.intrinsic+json": {
              "type": "string"
            }
          },
          "metadata": {},
          "execution_count": 9
        }
      ]
    },
    {
      "cell_type": "code",
      "source": [
        "s.loc['Nursultan']"
      ],
      "metadata": {
        "colab": {
          "base_uri": "https://localhost:8080/",
          "height": 35
        },
        "id": "3EEWSo3gRaPB",
        "outputId": "cba8c710-fd05-4771-cda3-e59f2042aa5b"
      },
      "execution_count": 10,
      "outputs": [
        {
          "output_type": "execute_result",
          "data": {
            "text/plain": [
              "'Physics'"
            ],
            "application/vnd.google.colaboratory.intrinsic+json": {
              "type": "string"
            }
          },
          "metadata": {},
          "execution_count": 10
        }
      ]
    },
    {
      "cell_type": "code",
      "source": [
        "s[3]"
      ],
      "metadata": {
        "colab": {
          "base_uri": "https://localhost:8080/",
          "height": 35
        },
        "id": "RjNbbaBdRObA",
        "outputId": "4f6909ff-f15e-473f-f57f-68bd3e2b6169"
      },
      "execution_count": 11,
      "outputs": [
        {
          "output_type": "execute_result",
          "data": {
            "text/plain": [
              "'History, MAth'"
            ],
            "application/vnd.google.colaboratory.intrinsic+json": {
              "type": "string"
            }
          },
          "metadata": {},
          "execution_count": 11
        }
      ]
    },
    {
      "cell_type": "code",
      "source": [
        "s[1]"
      ],
      "metadata": {
        "colab": {
          "base_uri": "https://localhost:8080/",
          "height": 35
        },
        "id": "HTevjpv_RxoY",
        "outputId": "e3cf7391-3372-4283-b7e6-cc70ad69a092"
      },
      "execution_count": 13,
      "outputs": [
        {
          "output_type": "execute_result",
          "data": {
            "text/plain": [
              "'Computer Science'"
            ],
            "application/vnd.google.colaboratory.intrinsic+json": {
              "type": "string"
            }
          },
          "metadata": {},
          "execution_count": 13
        }
      ]
    },
    {
      "cell_type": "code",
      "source": [
        "class_code = {99 : 'Physics',\n",
        "              100 : 'Chemistry',\n",
        "              101 : 'English',\n",
        "              102 :'History'}"
      ],
      "metadata": {
        "id": "mxh5OW9uRz4i"
      },
      "execution_count": 14,
      "outputs": []
    },
    {
      "cell_type": "code",
      "source": [
        "s = pd.Series(class_code)"
      ],
      "metadata": {
        "id": "fNNMg1d0SHS2"
      },
      "execution_count": 15,
      "outputs": []
    },
    {
      "cell_type": "code",
      "source": [
        "s"
      ],
      "metadata": {
        "colab": {
          "base_uri": "https://localhost:8080/"
        },
        "id": "jcOCRSDISLUF",
        "outputId": "cc91849f-01bc-469c-d764-4877688b1a9f"
      },
      "execution_count": 16,
      "outputs": [
        {
          "output_type": "execute_result",
          "data": {
            "text/plain": [
              "99       Physics\n",
              "100    Chemistry\n",
              "101      English\n",
              "102      History\n",
              "dtype: object"
            ]
          },
          "metadata": {},
          "execution_count": 16
        }
      ]
    },
    {
      "cell_type": "code",
      "source": [
        "try:\n",
        "  s[3]\n",
        "except:\n",
        "  print('KeyError')"
      ],
      "metadata": {
        "colab": {
          "base_uri": "https://localhost:8080/"
        },
        "id": "r_79N0CeSL4H",
        "outputId": "d435641d-a8fe-46fc-cd13-f718b19ce617"
      },
      "execution_count": 19,
      "outputs": [
        {
          "output_type": "stream",
          "name": "stdout",
          "text": [
            "KeyError\n"
          ]
        }
      ]
    },
    {
      "cell_type": "code",
      "source": [
        "s.iloc[1]"
      ],
      "metadata": {
        "colab": {
          "base_uri": "https://localhost:8080/",
          "height": 35
        },
        "id": "tKvcTI15SlWK",
        "outputId": "08324f4a-aed7-4c3e-f161-588e394a4ebb"
      },
      "execution_count": 20,
      "outputs": [
        {
          "output_type": "execute_result",
          "data": {
            "text/plain": [
              "'Chemistry'"
            ],
            "application/vnd.google.colaboratory.intrinsic+json": {
              "type": "string"
            }
          },
          "metadata": {},
          "execution_count": 20
        }
      ]
    },
    {
      "cell_type": "code",
      "source": [
        "s.loc[99]"
      ],
      "metadata": {
        "colab": {
          "base_uri": "https://localhost:8080/",
          "height": 35
        },
        "id": "DugSt9f0SpJp",
        "outputId": "f604623d-a57a-4527-835f-51808de7f9c6"
      },
      "execution_count": 21,
      "outputs": [
        {
          "output_type": "execute_result",
          "data": {
            "text/plain": [
              "'Physics'"
            ],
            "application/vnd.google.colaboratory.intrinsic+json": {
              "type": "string"
            }
          },
          "metadata": {},
          "execution_count": 21
        }
      ]
    },
    {
      "cell_type": "code",
      "source": [
        "grades = pd.Series([90, 80, 70, 60])\n",
        "total = 0\n",
        "for grade in grades:\n",
        "  total +=grade\n",
        "print(total/len(grades))"
      ],
      "metadata": {
        "colab": {
          "base_uri": "https://localhost:8080/"
        },
        "id": "bkgdXV6PSqk3",
        "outputId": "0c39b5e3-0011-4611-b67c-320742460d76"
      },
      "execution_count": 23,
      "outputs": [
        {
          "output_type": "stream",
          "name": "stdout",
          "text": [
            "75.0\n"
          ]
        }
      ]
    },
    {
      "cell_type": "code",
      "source": [
        "import numpy as np"
      ],
      "metadata": {
        "id": "Y5NyXgDxS9xo"
      },
      "execution_count": 24,
      "outputs": []
    },
    {
      "cell_type": "code",
      "source": [
        "total = np.sum(grades)\n",
        "print(total/len(grades))"
      ],
      "metadata": {
        "colab": {
          "base_uri": "https://localhost:8080/"
        },
        "id": "TPQHEcN7TAmS",
        "outputId": "29eb0504-07aa-4624-8f23-0a7eaae86c97"
      },
      "execution_count": 26,
      "outputs": [
        {
          "output_type": "stream",
          "name": "stdout",
          "text": [
            "75.0\n"
          ]
        }
      ]
    },
    {
      "cell_type": "code",
      "source": [
        "numbers = pd.Series(np.random.randint(0, 1000, 10000))"
      ],
      "metadata": {
        "id": "Hz9WUZ-RTEgo"
      },
      "execution_count": 27,
      "outputs": []
    },
    {
      "cell_type": "code",
      "source": [
        "numbers"
      ],
      "metadata": {
        "colab": {
          "base_uri": "https://localhost:8080/"
        },
        "id": "fdwp6a19TUYC",
        "outputId": "211bf4c7-456c-41f1-fcec-0048058eb766"
      },
      "execution_count": 28,
      "outputs": [
        {
          "output_type": "execute_result",
          "data": {
            "text/plain": [
              "0       841\n",
              "1       130\n",
              "2       543\n",
              "3       335\n",
              "4       981\n",
              "       ... \n",
              "9995    301\n",
              "9996    584\n",
              "9997    903\n",
              "9998    425\n",
              "9999    193\n",
              "Length: 10000, dtype: int64"
            ]
          },
          "metadata": {},
          "execution_count": 28
        }
      ]
    },
    {
      "cell_type": "code",
      "source": [
        "numbers.head()"
      ],
      "metadata": {
        "colab": {
          "base_uri": "https://localhost:8080/"
        },
        "id": "cFliAEzPTU_E",
        "outputId": "32aeb1de-1b17-47b6-a495-7636c66d7b95"
      },
      "execution_count": 30,
      "outputs": [
        {
          "output_type": "execute_result",
          "data": {
            "text/plain": [
              "0    841\n",
              "1    130\n",
              "2    543\n",
              "3    335\n",
              "4    981\n",
              "dtype: int64"
            ]
          },
          "metadata": {},
          "execution_count": 30
        }
      ]
    },
    {
      "cell_type": "code",
      "source": [
        "len(numbers)"
      ],
      "metadata": {
        "colab": {
          "base_uri": "https://localhost:8080/"
        },
        "id": "tg1CMvdRTZIT",
        "outputId": "d8d8e5df-4133-43b5-a349-ada304f508d4"
      },
      "execution_count": 31,
      "outputs": [
        {
          "output_type": "execute_result",
          "data": {
            "text/plain": [
              "10000"
            ]
          },
          "metadata": {},
          "execution_count": 31
        }
      ]
    },
    {
      "cell_type": "code",
      "source": [
        "%%timeit -n 100\n",
        "total = 0\n",
        "for number in numbers:\n",
        "  total += number\n",
        "total/len(numbers)"
      ],
      "metadata": {
        "colab": {
          "base_uri": "https://localhost:8080/"
        },
        "id": "nCHxxjzXTdfb",
        "outputId": "04a99e59-579d-42a3-d1cf-f9f7e45239cb"
      },
      "execution_count": 33,
      "outputs": [
        {
          "output_type": "stream",
          "name": "stdout",
          "text": [
            "100 loops, best of 5: 1.29 ms per loop\n"
          ]
        }
      ]
    },
    {
      "cell_type": "code",
      "source": [
        "%%timeit -n 100\n",
        "total = np.sum(numbers)\n",
        "total/len(numbers)"
      ],
      "metadata": {
        "colab": {
          "base_uri": "https://localhost:8080/"
        },
        "id": "ilMDxxf2TnHK",
        "outputId": "1bd55137-f7d6-46ff-948d-cf89f4e0e9ab"
      },
      "execution_count": 34,
      "outputs": [
        {
          "output_type": "stream",
          "name": "stdout",
          "text": [
            "100 loops, best of 5: 57.7 µs per loop\n"
          ]
        }
      ]
    },
    {
      "cell_type": "code",
      "source": [
        "%%timeit -n 100\n",
        "numbers.head()"
      ],
      "metadata": {
        "colab": {
          "base_uri": "https://localhost:8080/"
        },
        "id": "z_YmQRliT_LL",
        "outputId": "1b376844-1a41-4c7d-9ad2-cdb2bca55a74"
      },
      "execution_count": 36,
      "outputs": [
        {
          "output_type": "stream",
          "name": "stdout",
          "text": [
            "100 loops, best of 5: 39.1 µs per loop\n"
          ]
        }
      ]
    },
    {
      "cell_type": "code",
      "source": [
        "numbers.head()"
      ],
      "metadata": {
        "colab": {
          "base_uri": "https://localhost:8080/"
        },
        "id": "G-XS-tJiUock",
        "outputId": "b1f0f942-a191-43fc-9ab4-6fda01cc098b"
      },
      "execution_count": 38,
      "outputs": [
        {
          "output_type": "execute_result",
          "data": {
            "text/plain": [
              "0    841\n",
              "1    130\n",
              "2    543\n",
              "3    335\n",
              "4    981\n",
              "dtype: int64"
            ]
          },
          "metadata": {},
          "execution_count": 38
        }
      ]
    },
    {
      "cell_type": "code",
      "source": [
        "%%timeit -n 100\n",
        "count = 0\n",
        "if count !=  5:\n",
        "  for llist in numbers:\n",
        "    if count !=  5:\n",
        "      break\n",
        "    print(llist)\n",
        "    count +=1"
      ],
      "metadata": {
        "colab": {
          "base_uri": "https://localhost:8080/"
        },
        "id": "PmzaGJ-SURAE",
        "outputId": "f8b014a5-19ce-4012-863f-8cfda000b294"
      },
      "execution_count": 44,
      "outputs": [
        {
          "output_type": "stream",
          "name": "stdout",
          "text": [
            "100 loops, best of 5: 2.69 µs per loop\n"
          ]
        }
      ]
    }
  ]
}